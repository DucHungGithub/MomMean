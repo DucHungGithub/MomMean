{
  "cells": [
    {
      "cell_type": "markdown",
      "metadata": {
        "id": "xtHbO6Y5ajyD"
      },
      "source": [
        "# Install Libraries"
      ]
    },
    {
      "cell_type": "code",
      "execution_count": null,
      "metadata": {
        "colab": {
          "base_uri": "https://localhost:8080/"
        },
        "id": "9n1eMXRmaqZX",
        "outputId": "2ec7dc05-1574-407b-996a-2db1d5608bc3"
      },
      "outputs": [],
      "source": [
        "!pip install ta\n",
        "!pip install vnstock\n",
        "!pip install optuna"
      ]
    },
    {
      "cell_type": "code",
      "execution_count": null,
      "metadata": {
        "colab": {
          "base_uri": "https://localhost:8080/",
          "height": 546
        },
        "id": "QFCKYii4a8uE",
        "outputId": "7f2375ef-50d9-43f0-d03f-ef7991e54184"
      },
      "outputs": [],
      "source": [
        "import pandas as pd\n",
        "import numpy as np\n",
        "import ta\n",
        "import itertools\n",
        "from vnstock import Vnstock\n",
        "from concurrent.futures import ProcessPoolExecutor\n",
        "\n",
        "from math import floor\n",
        "from matplotlib import pyplot as plt\n",
        "from matplotlib import dates as mdates\n",
        "from tqdm.auto import tqdm  # For progress tracking"
      ]
    },
    {
      "cell_type": "markdown",
      "metadata": {
        "id": "SXn1VH_NbC7k"
      },
      "source": [
        "# Data Collection"
      ]
    },
    {
      "cell_type": "code",
      "execution_count": null,
      "metadata": {
        "id": "PVGeBvUYbBmG"
      },
      "outputs": [],
      "source": [
        "def load_data(symbol, start_date='2020-01-01', end_date='2025-01-01'):\n",
        "    \"\"\"\n",
        "    Load and preprocess symbol from vnstock.\n",
        "\n",
        "    Parameters:\n",
        "    - symbol (str): Ticker symbol ('VN30F1M' for futures).\n",
        "    - start_date (str): Start date for data retrieval (format: 'YYYY-MM-DD').\n",
        "    - end_date (str): End date for data retrieval (format: 'YYYY-MM-DD').\n",
        "\n",
        "    Returns:\n",
        "    - data (pd.DataFrame): data with OHLC columns.\n",
        "    \"\"\"\n",
        "    # Initialize vnstock client\n",
        "    stock = Vnstock().stock(symbol=symbol, source='TCBS')\n",
        "\n",
        "    # Fetch historical OHLC data\n",
        "    try:\n",
        "        data = stock.quote.history(start=start_date, end=end_date)\n",
        "    except Exception as e:\n",
        "        raise ValueError(f\"Failed to fetch data for {symbol}: {str(e)}\")\n",
        "\n",
        "    return data"
      ]
    },
    {
      "cell_type": "code",
      "execution_count": null,
      "metadata": {
        "colab": {
          "base_uri": "https://localhost:8080/"
        },
        "id": "-B9pvrm0bPe1",
        "outputId": "29aba948-2224-44ab-a1ee-9ff0b27896a6"
      },
      "outputs": [],
      "source": [
        "data_load = load_data('VN30F1M')"
      ]
    },
    {
      "cell_type": "markdown",
      "metadata": {
        "id": "TexVy3bzbTk4"
      },
      "source": [
        "# Data Processing"
      ]
    },
    {
      "cell_type": "code",
      "execution_count": null,
      "metadata": {
        "id": "FlaWozs5bTEf"
      },
      "outputs": [],
      "source": [
        "def process_split_data(data: pd.DataFrame, split_date='2024-01-01'):\n",
        "    \"\"\"\n",
        "    Process and split data for backtesting.\n",
        "\n",
        "    Parameters:\n",
        "    - data (pd.DataFrame): Raw data with OHLC columns.\n",
        "    - split_date (str): Date to split in-sample and out-of-sample data (format: 'YYYY-MM-DD').\n",
        "\n",
        "    Returns:\n",
        "    - tuple: (in_sample_df, out_sample_df)\n",
        "        - in_sample_df (pd.DataFrame): Preprocessed in-sample data with OHLC columns.\n",
        "        - out_sample_df (pd.DataFrame): Preprocessed out-of-sample data with OHLC columns.\n",
        "    \"\"\"\n",
        "    # Standardize column names (capitalize first letter)\n",
        "    data = data.rename(columns=lambda x: x.capitalize())\n",
        "\n",
        "    # Convert 'Time' column to datetime and set as index\n",
        "    data['Time'] = pd.to_datetime(data['Time'])\n",
        "    data = data.sort_values('Time').set_index('Time')\n",
        "\n",
        "    # Remove duplicates and handle missing values\n",
        "    data = data.drop_duplicates()\n",
        "    data = data.dropna(subset=['Open', 'High', 'Low', 'Close'])\n",
        "\n",
        "    # Split into in-sample and out-of-sample\n",
        "    split_timestamp = pd.Timestamp(split_date)\n",
        "    in_sample = data[data.index < split_timestamp]\n",
        "    out_sample = data[data.index >= split_timestamp]\n",
        "\n",
        "    # Ensure required columns are present\n",
        "    required_columns = ['Open', 'High', 'Low', 'Close']\n",
        "    for df in [in_sample, out_sample]:\n",
        "        if not all(col in df.columns for col in required_columns):\n",
        "            raise ValueError(f\"Missing required columns in data: {required_columns}\")\n",
        "\n",
        "    return in_sample, out_sample"
      ]
    },
    {
      "cell_type": "code",
      "execution_count": null,
      "metadata": {
        "id": "G1KLZKGMbxvM"
      },
      "outputs": [],
      "source": [
        "in_sample_VN30F1M, out_sample_VN30F1M = process_split_data(data_load)"
      ]
    },
    {
      "cell_type": "code",
      "execution_count": null,
      "metadata": {
        "id": "KveqfY98b0Fw"
      },
      "outputs": [],
      "source": [
        "in_sample_VN30F1M.to_csv('in_sample_VN30F1M.csv')\n",
        "out_sample_VN30F1M.to_csv('out_sample_VN30F1M.csv')"
      ]
    },
    {
      "cell_type": "markdown",
      "metadata": {
        "id": "ryNHSyY0quRP"
      },
      "source": [
        "# Load Data"
      ]
    },
    {
      "cell_type": "code",
      "execution_count": null,
      "metadata": {
        "id": "lBQyGVucqxlF"
      },
      "outputs": [],
      "source": [
        "in_sample_VN30F1M = pd.read_csv('data/in_sample_VN30F1M.csv', index_col=0, parse_dates=True)\n",
        "out_sample_VN30F1M = pd.read_csv('data/out_sample_VN30F1M.csv', index_col=0, parse_dates=True)"
      ]
    },
    {
      "cell_type": "code",
      "execution_count": null,
      "metadata": {
        "colab": {
          "base_uri": "https://localhost:8080/",
          "height": 238
        },
        "id": "dyCYq_Ueq75j",
        "outputId": "2248fce8-44d5-4f32-bc28-4ab64e261b68"
      },
      "outputs": [],
      "source": [
        "in_sample_VN30F1M.head()"
      ]
    },
    {
      "cell_type": "markdown",
      "metadata": {
        "id": "-edOFRXcb6cJ"
      },
      "source": [
        "# Data Visualization"
      ]
    },
    {
      "cell_type": "code",
      "execution_count": null,
      "metadata": {
        "colab": {
          "base_uri": "https://localhost:8080/",
          "height": 407
        },
        "id": "HKlinL8db3Pu",
        "outputId": "10aae986-e27c-4a1e-827c-d6ffabf339a0"
      },
      "outputs": [],
      "source": [
        "in_sample_VN30F1M['Close'].plot(kind='line', figsize=(8, 4))\n",
        "plt.title('In-sample VN30F1M Close Prices')\n",
        "plt.xlabel('Date')\n",
        "plt.ylabel('Close Price')\n",
        "plt.gca().spines[['top', 'right']].set_visible(False)\n",
        "plt.tight_layout()\n",
        "plt.savefig('in_sample_original.png', format='png', dpi=300)\n",
        "plt.show()"
      ]
    },
    {
      "cell_type": "code",
      "execution_count": null,
      "metadata": {
        "colab": {
          "base_uri": "https://localhost:8080/",
          "height": 407
        },
        "id": "htZcbx4ncC4T",
        "outputId": "ec8d6481-d173-417f-cefc-a1edb8631334"
      },
      "outputs": [],
      "source": [
        "out_sample_VN30F1M['Close'].plot(kind='line', figsize=(8, 4))\n",
        "plt.title('Out-sample VN30F1M Close Prices')\n",
        "plt.xlabel('Date')\n",
        "plt.ylabel('Close Price')\n",
        "plt.gca().spines[['top', 'right']].set_visible(False)\n",
        "plt.tight_layout()\n",
        "plt.savefig('out_sample_original.png', format='png', dpi=300)\n",
        "plt.show()"
      ]
    },
    {
      "cell_type": "markdown",
      "metadata": {
        "id": "_r1VfKDXdQRa"
      },
      "source": [
        "# Config"
      ]
    },
    {
      "cell_type": "code",
      "execution_count": null,
      "metadata": {
        "id": "pbUdaPlKdyK3"
      },
      "outputs": [],
      "source": [
        "ASSET_VALUE = 2 * (10 ** 8)\n",
        "TAX = 0.47\n",
        "MARGIN_RATIO = 0.175\n",
        "ACCOUNT_RATIO = 0.8\n",
        "MULTIPLIER = 10 ** 5"
      ]
    },
    {
      "cell_type": "markdown",
      "metadata": {
        "id": "a5GKMEfLcYML"
      },
      "source": [
        "# Implementation"
      ]
    },
    {
      "cell_type": "code",
      "execution_count": null,
      "metadata": {
        "id": "q4K32BPUcbaq"
      },
      "outputs": [],
      "source": [
        "def algo(\n",
        "    data: pd.DataFrame,\n",
        "    momentum_fast_ema: int,\n",
        "    momentum_slow_ema: int,\n",
        "    momentum_signal_ema: int,\n",
        "    momentum_rsi_window: int,\n",
        "    momentum_rsi_threshold: int,\n",
        "    momentum_atr_window: int,\n",
        "    momentum_atr_multiplier: float,\n",
        "    reversion_fast_ema: int,\n",
        "    reversion_slow_ema: int,\n",
        "    reversion_signal_ema: int,\n",
        "    reversion_rsi_window: int,\n",
        "    reversion_atr_window: int,\n",
        "    reversion_atr_multiplier: float\n",
        ") -> pd.DataFrame:\n",
        "    \"\"\"\n",
        "    Executes a hybrid trading strategy that allocates capital between Momentum and\n",
        "    Mean Reversion approaches, using MACD, RSI, and ATR-based conditions for\n",
        "    position management.\n",
        "\n",
        "    The algorithm processes historical OHLC data and simulates trading by:\n",
        "    - Opening and closing positions based on technical indicators.\n",
        "    - Splitting capital evenly between Momentum and Reversion strategies.\n",
        "    - Tracking asset value over time, including both cash and unrealized P&L.\n",
        "\n",
        "    Parameters:\n",
        "        data (pd.DataFrame): Input dataframe with columns: ['Open', 'High', 'Low', 'Close'].\n",
        "        momentum_fast_ema (int): Fast EMA period for Momentum MACD calculation.\n",
        "        momentum_slow_ema (int): Slow EMA period for Momentum MACD calculation.\n",
        "        momentum_signal_ema (int): Signal line EMA period for Momentum MACD.\n",
        "        momentum_rsi_window (int): Window length for Momentum RSI.\n",
        "        momentum_rsi_threshold (int): Threshold for overbought/oversold RSI levels in Momentum strategy.\n",
        "        momentum_atr_window (int): ATR window size for Momentum stop-loss/take-profit.\n",
        "        momentum_atr_multiplier (float): Multiplier for ATR-based exit levels in Momentum strategy.\n",
        "        reversion_fast_ema (int): Fast EMA period for Reversion MACD calculation.\n",
        "        reversion_slow_ema (int): Slow EMA period for Reversion MACD calculation.\n",
        "        reversion_signal_ema (int): Signal line EMA period for Reversion MACD.\n",
        "        reversion_rsi_window (int): Window length for Reversion RSI.\n",
        "        reversion_atr_window (int): ATR window size for Reversion stop-loss/take-profit.\n",
        "        reversion_atr_multiplier (float): Multiplier for ATR-based exit levels in Reversion strategy.\n",
        "\n",
        "    Returns:\n",
        "        pd.DataFrame: DataFrame indexed by date with columns:\n",
        "            - 'Asset': Total portfolio value (cash + unrealized P&L) at each timestep.\n",
        "            - 'Return': Percentage return compared to the previous timestep.\n",
        "    \"\"\"\n",
        "    data = data.copy()\n",
        "    price_multiplier = MULTIPLIER * MARGIN_RATIO / ACCOUNT_RATIO\n",
        "\n",
        "    cash = ASSET_VALUE\n",
        "    holdings_momentum = []\n",
        "    holdings_reversion = []\n",
        "    trading_data = pd.DataFrame(index=data.index, columns=['Asset'])\n",
        "    trading_data['Asset'] = cash\n",
        "    trading_data['Asset'] = trading_data['Asset'].astype(float)\n",
        "\n",
        "    # Calculate technical indicators for Momentum\n",
        "    data['MACD_diff_mom'] = ta.trend.macd_diff(\n",
        "        data['Close'], window_slow=momentum_slow_ema, window_fast=momentum_fast_ema, window_sign=momentum_signal_ema\n",
        "    )\n",
        "    data['RSI_mom'] = ta.momentum.rsi(data['Close'], window=momentum_rsi_window)\n",
        "    data['ATR_mom'] = ta.volatility.average_true_range(data['High'], data['Low'], data['Close'], window=momentum_atr_window)\n",
        "\n",
        "    # Calculate technical indicators for Mean Reversion\n",
        "    data['MACD_diff_rev'] = ta.trend.macd_diff(\n",
        "        data['Close'], window_slow=reversion_slow_ema, window_fast=reversion_fast_ema, window_sign=reversion_signal_ema\n",
        "    )\n",
        "    data['RSI_rev'] = ta.momentum.rsi(data['Close'], window=reversion_rsi_window)\n",
        "    data['ATR_rev'] = ta.volatility.average_true_range(data['High'], data['Low'], data['Close'], window=reversion_atr_window)\n",
        "\n",
        "    for i in range(1, len(data)):\n",
        "        row = data.iloc[i]\n",
        "        if (pd.isna(row['RSI_mom']) or pd.isna(row['MACD_diff_mom']) or pd.isna(row['ATR_mom']) or\n",
        "            pd.isna(row['RSI_rev']) or pd.isna(row['MACD_diff_rev']) or pd.isna(row['ATR_rev'])\n",
        "        ): continue\n",
        "        date = data.index[i]\n",
        "        cur_price = row['Close']\n",
        "\n",
        "        # Exit Momentum Positions\n",
        "        for position in holdings_momentum[:]:\n",
        "            entry_date, pos_type, entry_price, quantity, stop_loss, take_profit = position\n",
        "            if pos_type == 'LONG' and (\n",
        "                cur_price >= take_profit or cur_price <= stop_loss or\n",
        "                row['RSI_mom'] >= (100 - momentum_rsi_threshold) or row['MACD_diff_mom'] < 0\n",
        "            ):\n",
        "                cash += quantity * cur_price * price_multiplier - quantity * TAX * MULTIPLIER\n",
        "                holdings_momentum.remove(position)\n",
        "            elif pos_type == 'SHORT' and (\n",
        "                cur_price <= take_profit or cur_price >= stop_loss or\n",
        "                row['RSI_mom'] <= momentum_rsi_threshold or row['MACD_diff_mom'] > 0\n",
        "            ):\n",
        "                cash -= quantity * cur_price * price_multiplier + quantity * TAX * MULTIPLIER\n",
        "                holdings_momentum.remove(position)\n",
        "\n",
        "        # Exit Mean Reversion Positions\n",
        "        for position in holdings_reversion[:]:\n",
        "            entry_date, pos_type, entry_price, quantity, stop_loss, take_profit = position\n",
        "            if pos_type == 'LONG' and (\n",
        "                cur_price >= take_profit or cur_price <= stop_loss or row['RSI_rev'] >= 50 or row['MACD_diff_rev'] < 0\n",
        "            ):\n",
        "                cash += quantity * cur_price * price_multiplier - quantity * TAX * MULTIPLIER\n",
        "                holdings_reversion.remove(position)\n",
        "            elif pos_type == 'SHORT' and (\n",
        "                cur_price <= take_profit or cur_price >= stop_loss or row['RSI_rev'] >= 50 or row['MACD_diff_rev'] > 0\n",
        "            ):\n",
        "                cash -= quantity * cur_price * price_multiplier + quantity * TAX * MULTIPLIER\n",
        "                holdings_reversion.remove(position)\n",
        "\n",
        "        total_unrealized = sum(\n",
        "            cur_price * price_multiplier * pos[3] if pos[1] == 'LONG'\n",
        "            else -cur_price * price_multiplier * pos[3] for pos in holdings_momentum + holdings_reversion\n",
        "        )\n",
        "        trading_data.loc[date, 'Asset'] = cash + total_unrealized\n",
        "\n",
        "        available_cash = cash / 2\n",
        "        # Momentum Entry Logic\n",
        "        if not holdings_momentum:\n",
        "            if row['MACD_diff_mom'] > 0 and 50 < row['RSI_mom'] < (100 - momentum_rsi_threshold):\n",
        "                quantity = floor(available_cash / (cur_price * price_multiplier))\n",
        "                if quantity > 0:\n",
        "                    cash -= quantity * cur_price * price_multiplier\n",
        "                    stop_loss = cur_price - row['ATR_mom'] * momentum_atr_multiplier\n",
        "                    take_profit = cur_price + row['ATR_mom'] * momentum_atr_multiplier\n",
        "                    holdings_momentum.append((date, 'LONG', cur_price, quantity, stop_loss, take_profit))\n",
        "            elif row['MACD_diff_mom'] < 0 and momentum_rsi_threshold < row['RSI_mom'] < 50:\n",
        "                quantity = floor(available_cash / (cur_price * price_multiplier))\n",
        "                if quantity > 0:\n",
        "                    cash += quantity * cur_price * price_multiplier\n",
        "                    stop_loss = cur_price + row['ATR_mom'] * momentum_atr_multiplier\n",
        "                    take_profit = cur_price - row['ATR_mom'] * momentum_atr_multiplier\n",
        "                    holdings_momentum.append((date, 'SHORT', cur_price, quantity, stop_loss, take_profit))\n",
        "\n",
        "        # Mean Reversion Entry Logic\n",
        "        if not holdings_reversion:\n",
        "            if row['MACD_diff_rev'] > 0 and row['RSI_rev'] < 30:\n",
        "                quantity = floor(available_cash / (cur_price * price_multiplier))\n",
        "                if quantity > 0:\n",
        "                    cash -= quantity * cur_price * price_multiplier\n",
        "                    stop_loss = cur_price - row['ATR_rev'] * reversion_atr_multiplier\n",
        "                    take_profit = cur_price + row['ATR_rev'] * reversion_atr_multiplier\n",
        "                    holdings_reversion.append((date, 'LONG', cur_price, quantity, stop_loss, take_profit))\n",
        "            elif row['MACD_diff_rev'] < 0 and row['RSI_rev'] > 70:\n",
        "                quantity = min(floor(available_cash / (cur_price * price_multiplier)), 3)\n",
        "                if quantity > 0:\n",
        "                    cash += quantity * cur_price * price_multiplier\n",
        "                    stop_loss = cur_price + row['ATR_rev'] * reversion_atr_multiplier\n",
        "                    take_profit = cur_price - row['ATR_rev'] * reversion_atr_multiplier\n",
        "                    holdings_reversion.append((date, 'SHORT', cur_price, quantity, stop_loss, take_profit))\n",
        "\n",
        "    trading_data['Return'] = trading_data['Asset'].pct_change()\n",
        "\n",
        "    return trading_data\n"
      ]
    },
    {
      "cell_type": "code",
      "execution_count": null,
      "metadata": {
        "id": "ZeT7xi-9c-8f"
      },
      "outputs": [],
      "source": [
        "def dynamic_algo(\n",
        "    data: pd.DataFrame,\n",
        "    momentum_fast_ema: int,\n",
        "    momentum_slow_ema: int,\n",
        "    momentum_signal_ema: int,\n",
        "    momentum_rsi_window: int,\n",
        "    momentum_rsi_threshold: int,\n",
        "    momentum_atr_window: int,\n",
        "    reversion_fast_ema: int,\n",
        "    reversion_slow_ema: int,\n",
        "    reversion_signal_ema: int,\n",
        "    reversion_rsi_window: int,\n",
        "    reversion_atr_window: int\n",
        ") -> pd.DataFrame:\n",
        "    \"\"\"\n",
        "    Executes a dynamic hybrid trading strategy combining Momentum and Mean Reversion models,\n",
        "    driven by MACD, RSI, and ATR indicators.\n",
        "\n",
        "    This algorithm allocates capital evenly between two strategies: Momentum and Mean Reversion.\n",
        "\n",
        "    A key feature of this strategy is its adaptive position sizing logic:\n",
        "    ATR-based stop-loss and take-profit levels are dynamically adjusted at each time step\n",
        "    depending on short-term vs long-term volatility (measured by short and long ATR windows).\n",
        "    This allows the system to widen or tighten risk thresholds based on changing market conditions.\n",
        "\n",
        "    Parameters:\n",
        "        data (pd.DataFrame): Historical OHLCV data with at least 'High', 'Low', 'Close' columns.\n",
        "        momentum_fast_ema (int): Fast EMA period for Momentum MACD.\n",
        "        momentum_slow_ema (int): Slow EMA period for Momentum MACD.\n",
        "        momentum_signal_ema (int): Signal line EMA period for Momentum MACD.\n",
        "        momentum_rsi_window (int): RSI window for Momentum strategy.\n",
        "        momentum_rsi_threshold (int): Threshold used to define RSI extreme zones.\n",
        "        momentum_atr_window (int): ATR window for base Momentum volatility.\n",
        "        reversion_fast_ema (int): Fast EMA period for Reversion MACD.\n",
        "        reversion_slow_ema (int): Slow EMA period for Reversion MACD.\n",
        "        reversion_signal_ema (int): Signal line EMA period for Reversion MACD.\n",
        "        reversion_rsi_window (int): RSI window for Reversion strategy.\n",
        "        reversion_atr_window (int): ATR window for base Reversion volatility.\n",
        "\n",
        "    Returns:\n",
        "        pd.DataFrame: Time series of the simulated portfolio, with:\n",
        "            - 'Asset': Total asset value (cash + unrealized positions).\n",
        "            - 'Return': Daily percentage change of the asset value.\n",
        "    \"\"\"\n",
        "    data = data.copy()\n",
        "    price_multiplier = MULTIPLIER * MARGIN_RATIO / ACCOUNT_RATIO\n",
        "\n",
        "    cash = ASSET_VALUE\n",
        "    holdings_momentum = []\n",
        "    holdings_reversion = []\n",
        "    trading_data = pd.DataFrame(index=data.index, columns=['Asset'])\n",
        "    trading_data['Asset'] = cash\n",
        "    trading_data['Asset'] = trading_data['Asset'].astype(float)\n",
        "\n",
        "    # Calculate technical indicators for Momentum\n",
        "    data['MACD_diff_mom'] = ta.trend.macd_diff(\n",
        "        data['Close'], window_slow=momentum_slow_ema, window_fast=momentum_fast_ema, window_sign=momentum_signal_ema\n",
        "    )\n",
        "    data['RSI_mom'] = ta.momentum.rsi(data['Close'], window=momentum_rsi_window)\n",
        "    data['ATR_mom'] = ta.volatility.average_true_range(data['High'], data['Low'], data['Close'], window=momentum_atr_window)\n",
        "    data['ATR_mom_short'] = ta.volatility.average_true_range(data['High'], data['Low'], data['Close'], window = 10)\n",
        "    data['ATR_mom_long'] = ta.volatility.average_true_range(data['High'], data['Low'], data['Close'], window = 20)\n",
        "\n",
        "    # Calculate technical indicators for Mean Reversion\n",
        "    data['MACD_diff_rev'] = ta.trend.macd_diff(\n",
        "        data['Close'], window_slow=reversion_slow_ema, window_fast=reversion_fast_ema, window_sign=reversion_signal_ema\n",
        "    )\n",
        "    data['RSI_rev'] = ta.momentum.rsi(data['Close'], window=reversion_rsi_window)\n",
        "    data['ATR_rev'] = ta.volatility.average_true_range(data['High'], data['Low'], data['Close'], window=reversion_atr_window)\n",
        "    data['ATR_rev_short'] = ta.volatility.average_true_range(data['High'], data['Low'], data['Close'], window = 7)\n",
        "    data['ATR_rev_long'] = ta.volatility.average_true_range(data['High'], data['Low'], data['Close'], window = 14)\n",
        "\n",
        "    for i in range(1, len(data)):\n",
        "        row = data.iloc[i]\n",
        "        if (pd.isna(row['RSI_mom']) or pd.isna(row['MACD_diff_mom']) or pd.isna(row['ATR_mom']) or\n",
        "            pd.isna(row['RSI_rev']) or pd.isna(row['MACD_diff_rev']) or pd.isna(row['ATR_rev'])\n",
        "        ): continue\n",
        "        date = data.index[i]\n",
        "        cur_price = row['Close']\n",
        "\n",
        "        # Determine ATR multiplier based on volatility trend\n",
        "        if row['ATR_mom_short'] > row['ATR_mom_long']:\n",
        "            momentum_atr_multiplier = 3.0  # Higher volatility → wider SL/TP\n",
        "        else:\n",
        "            momentum_atr_multiplier = 2.0  # Lower volatility → tighter SL/TP\n",
        "        if row['ATR_rev_short'] > row['ATR_rev_long']:\n",
        "            reversion_atr_multiplier = 2.0  # Higher volatility → wider SL/TP\n",
        "        else:\n",
        "            reversion_atr_multiplier = 1.5  # Lower volatility → tighter SL/TP\n",
        "\n",
        "        # Exit Momentum Positions\n",
        "        for position in holdings_momentum[:]:\n",
        "            entry_date, pos_type, entry_price, quantity, stop_loss, take_profit = position\n",
        "            if pos_type == 'LONG' and (\n",
        "                cur_price >= take_profit or cur_price <= stop_loss or\n",
        "                row['RSI_mom'] >= (100 - momentum_rsi_threshold) or row['MACD_diff_mom'] < 0\n",
        "            ):\n",
        "                cash += quantity * cur_price * price_multiplier - quantity * TAX * MULTIPLIER\n",
        "                holdings_momentum.remove(position)\n",
        "            elif pos_type == 'SHORT' and (\n",
        "                cur_price <= take_profit or cur_price >= stop_loss or\n",
        "                row['RSI_mom'] <= momentum_rsi_threshold or row['MACD_diff_mom'] > 0\n",
        "            ):\n",
        "                cash -= quantity * cur_price * price_multiplier + quantity * TAX * MULTIPLIER\n",
        "                holdings_momentum.remove(position)\n",
        "\n",
        "        # Exit Mean Reversion Positions\n",
        "        for position in holdings_reversion[:]:\n",
        "            entry_date, pos_type, entry_price, quantity, stop_loss, take_profit = position\n",
        "            if pos_type == 'LONG' and (\n",
        "                cur_price >= take_profit or cur_price <= stop_loss or row['RSI_rev'] >= 50 or row['MACD_diff_rev'] < 0\n",
        "            ):\n",
        "                cash += quantity * cur_price * price_multiplier - quantity * TAX * MULTIPLIER\n",
        "                holdings_reversion.remove(position)\n",
        "            elif pos_type == 'SHORT' and (\n",
        "                cur_price <= take_profit or cur_price >= stop_loss or row['RSI_rev'] >= 50 or row['MACD_diff_rev'] > 0\n",
        "            ):\n",
        "                cash -= quantity * cur_price * price_multiplier + quantity * TAX * MULTIPLIER\n",
        "                holdings_reversion.remove(position)\n",
        "\n",
        "        total_unrealized = sum(\n",
        "            cur_price * price_multiplier * pos[3] if pos[1] == 'LONG'\n",
        "            else -cur_price * price_multiplier * pos[3] for pos in holdings_momentum + holdings_reversion\n",
        "        )\n",
        "        trading_data.loc[date, 'Asset'] = cash + total_unrealized\n",
        "\n",
        "        available_cash = cash / 2\n",
        "        # Momentum Entry Logic\n",
        "        if not holdings_momentum:\n",
        "            if row['MACD_diff_mom'] > 0 and 50 < row['RSI_mom'] < (100 - momentum_rsi_threshold):\n",
        "                quantity = floor(available_cash / (cur_price * price_multiplier))\n",
        "                if quantity > 0:\n",
        "                    cash -= quantity * cur_price * price_multiplier\n",
        "                    stop_loss = cur_price - row['ATR_mom'] * momentum_atr_multiplier\n",
        "                    take_profit = cur_price + row['ATR_mom'] * momentum_atr_multiplier\n",
        "                    holdings_momentum.append((date, 'LONG', cur_price, quantity, stop_loss, take_profit))\n",
        "            elif row['MACD_diff_mom'] < 0 and momentum_rsi_threshold < row['RSI_mom'] < 50:\n",
        "                quantity = floor(available_cash / (cur_price * price_multiplier))\n",
        "                if quantity > 0:\n",
        "                    cash += quantity * cur_price * price_multiplier\n",
        "                    stop_loss = cur_price + row['ATR_mom'] * momentum_atr_multiplier\n",
        "                    take_profit = cur_price - row['ATR_mom'] * momentum_atr_multiplier\n",
        "                    holdings_momentum.append((date, 'SHORT', cur_price, quantity, stop_loss, take_profit))\n",
        "\n",
        "        # Mean Reversion Entry Logic\n",
        "        if not holdings_reversion:\n",
        "            if row['MACD_diff_rev'] > 0 and row['RSI_rev'] < 30:\n",
        "                quantity = floor(available_cash / (cur_price * price_multiplier))\n",
        "                if quantity > 0:\n",
        "                    cash -= quantity * cur_price * price_multiplier\n",
        "                    stop_loss = cur_price - row['ATR_rev'] * reversion_atr_multiplier\n",
        "                    take_profit = cur_price + row['ATR_rev'] * reversion_atr_multiplier\n",
        "                    holdings_reversion.append((date, 'LONG', cur_price, quantity, stop_loss, take_profit))\n",
        "            elif row['MACD_diff_rev'] < 0 and row['RSI_rev'] > 70:\n",
        "                quantity = min(floor(available_cash / (cur_price * price_multiplier)), 3)\n",
        "                if quantity > 0:\n",
        "                    cash += quantity * cur_price * price_multiplier\n",
        "                    stop_loss = cur_price + row['ATR_rev'] * reversion_atr_multiplier\n",
        "                    take_profit = cur_price - row['ATR_rev'] * reversion_atr_multiplier\n",
        "                    holdings_reversion.append((date, 'SHORT', cur_price, quantity, stop_loss, take_profit))\n",
        "\n",
        "    trading_data['Return'] = trading_data['Asset'].pct_change()\n",
        "\n",
        "    return trading_data\n",
        "\n"
      ]
    },
    {
      "cell_type": "markdown",
      "metadata": {
        "id": "zmJ96kZte8FS"
      },
      "source": [
        "# Utils"
      ]
    },
    {
      "cell_type": "code",
      "execution_count": null,
      "metadata": {
        "id": "XPOv2c-Ze-lj"
      },
      "outputs": [],
      "source": [
        "def maximum_drawdown(data: pd.DataFrame) -> float:\n",
        "    data['peak'] = data['Asset'].cummax()\n",
        "    data['drawdown'] = data['Asset'] / data['peak'] - 1\n",
        "    return data['drawdown'].min() * 100\n",
        "\n",
        "def sharpe_ratio(data: pd.DataFrame) -> float:\n",
        "    daily_return = data['Asset'][1:].to_numpy() / data['Asset'][:-1].to_numpy() - 1\n",
        "    trading_days_per_year = 252\n",
        "    risk_free_rate = 0.03093 # e.g. government bonds interest is 3% per year\n",
        "\n",
        "    annual_std = np.sqrt(252) * np.std(daily_return, ddof=1)\n",
        "    annual_return = 252 * np.mean(daily_return) - risk_free_rate\n",
        "\n",
        "    return annual_return / annual_std if annual_std != 0 else 0\n",
        "\n",
        "def longest_drawdown(data: pd.DataFrame) -> int:\n",
        "    # Initial and peak asset\n",
        "    cur_asset = 1\n",
        "    peak = 1\n",
        "\n",
        "    period_returns = data['Return'].dropna()\n",
        "\n",
        "    if period_returns.empty:\n",
        "        raise ValueError(\"Period returns is empty\")\n",
        "    if period_returns.isin([-1]).any():\n",
        "        raise ValueError(\"All capital of the portfolio is lost\")\n",
        "\n",
        "    count = 0\n",
        "    ldd = 0\n",
        "    for val in period_returns:\n",
        "        cur_asset *= (1 + val)\n",
        "        if cur_asset >= peak:\n",
        "            peak = cur_asset\n",
        "            ldd = max(ldd, count)\n",
        "            count = 0\n",
        "        else:\n",
        "            count += 1\n",
        "    ldd = max(ldd, count)\n",
        "    return ldd\n",
        "\n",
        "def sortino_ratio(data: pd.DataFrame, risk_free_return: float = 0.03093) -> float:\n",
        "    period_returns = data['Return'].dropna()\n",
        "    if period_returns.empty:\n",
        "        raise ValueError(\"Period returns is empty\")\n",
        "\n",
        "    downside_risk = np.sqrt(np.mean([0 if val > risk_free_return else (val - risk_free_return) ** 2 for val in period_returns]))\n",
        "    if downside_risk == 0:\n",
        "        return 0\n",
        "\n",
        "    return round((np.sqrt(252) * np.mean(period_returns) - risk_free_return) / downside_risk, 6)\n",
        "\n",
        "def holding_period_returns(data: pd.DataFrame) -> float:\n",
        "    cur_asset_value = data['Asset'].iloc[-1]\n",
        "    init_asset_value = data['Asset'].iloc[0]\n",
        "    return round((cur_asset_value / init_asset_value - 1) * 100, 6)"
      ]
    },
    {
      "cell_type": "markdown",
      "metadata": {
        "id": "_KOnqoLQcLwW"
      },
      "source": [
        "# In-sample Back-Testing"
      ]
    },
    {
      "cell_type": "markdown",
      "metadata": {
        "id": "FseViJEff5NO"
      },
      "source": [
        "## Non Dynamic"
      ]
    },
    {
      "cell_type": "code",
      "execution_count": null,
      "metadata": {
        "id": "d9Tzz-1tcGDL"
      },
      "outputs": [],
      "source": [
        "# Non-dynamic Parameters\n",
        "MOMENTUM_FAST_EMA = 10\n",
        "MOMENTUM_SLOW_EMA = 15\n",
        "MOMENTUM_SIGNAL_EMA = 5\n",
        "MOMENTUM_RSI_WINDOW = 10\n",
        "MOMENTUM_RSI_THRESHOLD = 30\n",
        "MOMENTUM_ATR_WINDOW = 7\n",
        "MOMENTUM_ATR_MULTIPLIER = 2.0\n",
        "\n",
        "REVERSION_FAST_EMA = 20\n",
        "REVERSION_SLOW_EMA = 20\n",
        "REVERSION_SIGNAL_EMA = 5\n",
        "REVERSION_RSI_WINDOW = 10\n",
        "REVERSION_ATR_WINDOW = 7\n",
        "REVERSION_ATR_MULTIPLIER = 1.5\n",
        "\n",
        "data = in_sample_VN30F1M.copy()"
      ]
    },
    {
      "cell_type": "code",
      "execution_count": null,
      "metadata": {
        "id": "Dbm4eSLOehLX"
      },
      "outputs": [],
      "source": [
        "result = algo(\n",
        "    data,\n",
        "    MOMENTUM_FAST_EMA, MOMENTUM_SLOW_EMA, MOMENTUM_SIGNAL_EMA,\n",
        "    MOMENTUM_RSI_WINDOW, MOMENTUM_RSI_THRESHOLD, MOMENTUM_ATR_WINDOW, MOMENTUM_ATR_MULTIPLIER,\n",
        "    REVERSION_FAST_EMA, REVERSION_SLOW_EMA, REVERSION_SIGNAL_EMA,\n",
        "    REVERSION_RSI_WINDOW, REVERSION_ATR_WINDOW, REVERSION_ATR_MULTIPLIER\n",
        ")"
      ]
    },
    {
      "cell_type": "code",
      "execution_count": null,
      "metadata": {
        "colab": {
          "base_uri": "https://localhost:8080/",
          "height": 1000
        },
        "id": "tJgeFFWResRO",
        "outputId": "c2e6e3fd-0d63-4fcb-aa28-b8e8e1ad21ac"
      },
      "outputs": [],
      "source": [
        "init_date = result.index[0]\n",
        "cur_date = result.index[-1]\n",
        "cur_asset_value = result['Asset'].iloc[-1]\n",
        "init_asset_value = result['Asset'].iloc[0]\n",
        "accum_return_rate = (cur_asset_value / init_asset_value - 1) * 100\n",
        "print(f\"Holding Period Return: {accum_return_rate:.2f}%\")\n",
        "print(f\"Holding Period: từ {init_date} đến {cur_date}\")\n",
        "\n",
        "\n",
        "plt.figure(figsize=(13, 6))\n",
        "plt.plot(result.index, result['Asset'], label='Asset Value', color='blue')\n",
        "plt.xlabel('Date')\n",
        "plt.ylabel('Asset Value')\n",
        "plt.title('Asset Value Over Time with Holding Period Return')\n",
        "plt.annotate(\n",
        "    f\"Holding Period Return: {accum_return_rate:.2f}%\", xy = (data.index[-1], cur_asset_value),\n",
        "    xytext = (0.6, 0.9), textcoords = 'axes fraction', arrowprops = dict(facecolor = 'black', arrowstyle = '->'),\n",
        "    bbox = dict(boxstyle = 'round, pad = 0.5', fc = 'yellow', alpha = 0.5), fontsize = 12\n",
        ")\n",
        "plt.legend()\n",
        "plt.show()\n",
        "\n",
        "mdd_value = maximum_drawdown(result)\n",
        "print(mdd_value)\n",
        "trough_date = result['drawdown'].idxmin()\n",
        "print(type(trough_date))\n",
        "\n",
        "# ----------------------------\n",
        "peak_date = result.loc[:trough_date, 'Asset'].idxmax()\n",
        "print(\"Peak date:\", peak_date)\n",
        "print(\"Trough date:\", trough_date)\n",
        "print(\"MDD:\", result['drawdown'].min() * 100, \"%\")\n",
        "plt.figure(figsize=(12, 6))\n",
        "plt.plot(data.index, result['Asset'], label='Asset Value', color='blue')\n",
        "plt.axvspan(float(mdates.date2num(trough_date)), float(mdates.date2num(peak_date)), color = 'red', alpha = 0.3, label = 'Max Drawdown Period')\n",
        "plt.xlabel('Date')\n",
        "plt.ylabel('Asset Value')\n",
        "plt.title('Asset Value & Maximum Drawdown Period')\n",
        "plt.legend()\n",
        "plt.show()\n",
        "\n",
        "\n",
        "# ------------------------------\n",
        "\n",
        "daily_return = result['Asset'].pct_change().dropna()\n",
        "plt.figure(figsize = (13, 6))\n",
        "plt.plot(result.index[1:], daily_return, linestyle = '-', color = 'dodgerblue', label = 'Daily Return')\n",
        "plt.title(\"Daily Return Graph\", fontsize = 16)\n",
        "plt.xlabel(\"Date\", fontsize = 14)\n",
        "plt.ylabel(\"Daily Return\", fontsize = 14)\n",
        "plt.legend()\n",
        "plt.grid(True, linestyle='--', alpha = 0.7)\n",
        "plt.tight_layout()\n",
        "plt.show()\n",
        "sharpe = sharpe_ratio(result)\n",
        "print(\"Sharpe Ratio: \", sharpe)"
      ]
    },
    {
      "cell_type": "markdown",
      "metadata": {
        "id": "eZgWwByMf8Yr"
      },
      "source": [
        "## Dynamic"
      ]
    },
    {
      "cell_type": "code",
      "execution_count": null,
      "metadata": {
        "id": "kKhnEhJFfmTe"
      },
      "outputs": [],
      "source": [
        "# Dynamic Parameters\n",
        "MOMENTUM_FAST_EMA = 10\n",
        "MOMENTUM_SLOW_EMA = 15\n",
        "MOMENTUM_SIGNAL_EMA = 5\n",
        "MOMENTUM_RSI_WINDOW = 10\n",
        "MOMENTUM_RSI_THRESHOLD = 30\n",
        "MOMENTUM_ATR_WINDOW = 7\n",
        "\n",
        "REVERSION_FAST_EMA = 20\n",
        "REVERSION_SLOW_EMA = 20\n",
        "REVERSION_SIGNAL_EMA = 5\n",
        "REVERSION_RSI_WINDOW = 10\n",
        "REVERSION_ATR_WINDOW = 7\n",
        "data = in_sample_VN30F1M.copy()"
      ]
    },
    {
      "cell_type": "code",
      "execution_count": null,
      "metadata": {
        "id": "eRax8wsugCgW"
      },
      "outputs": [],
      "source": [
        "result = dynamic_algo(\n",
        "    data,\n",
        "    MOMENTUM_FAST_EMA, MOMENTUM_SLOW_EMA, MOMENTUM_SIGNAL_EMA,MOMENTUM_RSI_WINDOW, MOMENTUM_RSI_THRESHOLD, MOMENTUM_ATR_WINDOW,\n",
        "    REVERSION_FAST_EMA, REVERSION_SLOW_EMA, REVERSION_SIGNAL_EMA, REVERSION_RSI_WINDOW, REVERSION_ATR_WINDOW\n",
        ")"
      ]
    },
    {
      "cell_type": "code",
      "execution_count": null,
      "metadata": {
        "colab": {
          "base_uri": "https://localhost:8080/",
          "height": 1000
        },
        "id": "VWnUWQPZgOox",
        "outputId": "eb8a99cf-3dd0-4437-de70-7aa1cd0a4bd4"
      },
      "outputs": [],
      "source": [
        "init_date = result.index[0]\n",
        "cur_date = result.index[-1]\n",
        "cur_asset_value = result['Asset'].iloc[-1]\n",
        "init_asset_value = result['Asset'].iloc[0]\n",
        "accum_return_rate = (cur_asset_value / init_asset_value - 1) * 100\n",
        "print(f\"Holding Period Return: {accum_return_rate:.2f}%\")\n",
        "print(f\"Holding Period: từ {init_date} đến {cur_date}\")\n",
        "\n",
        "\n",
        "plt.figure(figsize=(13, 6))\n",
        "plt.plot(result.index, result['Asset'], label='Asset Value', color='blue')\n",
        "plt.xlabel('Date')\n",
        "plt.ylabel('Asset Value')\n",
        "plt.title('Asset Value Over Time with Holding Period Return')\n",
        "plt.annotate(\n",
        "    f\"Holding Period Return: {accum_return_rate:.2f}%\", xy = (data.index[-1], cur_asset_value),\n",
        "    xytext = (0.6, 0.9), textcoords = 'axes fraction', arrowprops = dict(facecolor = 'black', arrowstyle = '->'),\n",
        "    bbox = dict(boxstyle = 'round, pad = 0.5', fc = 'yellow', alpha = 0.5), fontsize = 12\n",
        ")\n",
        "plt.legend()\n",
        "plt.show()\n",
        "\n",
        "mdd_value = maximum_drawdown(result)\n",
        "print(mdd_value)\n",
        "trough_date = result['drawdown'].idxmin()\n",
        "print(type(trough_date))\n",
        "\n",
        "# ----------------------------\n",
        "peak_date = result.loc[:trough_date, 'Asset'].idxmax()\n",
        "print(\"Peak date:\", peak_date)\n",
        "print(\"Trough date:\", trough_date)\n",
        "print(\"MDD:\", result['drawdown'].min() * 100, \"%\")\n",
        "plt.figure(figsize=(12, 6))\n",
        "plt.plot(data.index, result['Asset'], label='Asset Value', color='blue')\n",
        "plt.axvspan(float(mdates.date2num(trough_date)), float(mdates.date2num(peak_date)), color = 'red', alpha = 0.3, label = 'Max Drawdown Period')\n",
        "plt.xlabel('Date')\n",
        "plt.ylabel('Asset Value')\n",
        "plt.title('Asset Value & Maximum Drawdown Period')\n",
        "plt.legend()\n",
        "plt.show()\n",
        "\n",
        "\n",
        "# ------------------------------\n",
        "\n",
        "daily_return = result['Asset'].pct_change().dropna()\n",
        "plt.figure(figsize = (13, 6))\n",
        "plt.plot(result.index[1:], daily_return, linestyle = '-', color = 'dodgerblue', label = 'Daily Return')\n",
        "plt.title(\"Daily Return Graph\", fontsize = 16)\n",
        "plt.xlabel(\"Date\", fontsize = 14)\n",
        "plt.ylabel(\"Daily Return\", fontsize = 14)\n",
        "plt.legend()\n",
        "plt.grid(True, linestyle='--', alpha = 0.7)\n",
        "plt.tight_layout()\n",
        "plt.show()\n",
        "sharpe = sharpe_ratio(result)\n",
        "print(\"Sharpe Ratio: \", sharpe)"
      ]
    },
    {
      "cell_type": "markdown",
      "metadata": {
        "id": "GyVzvZo1gbvH"
      },
      "source": [
        "# Optimization"
      ]
    },
    {
      "cell_type": "markdown",
      "metadata": {
        "id": "EVQ-r36iggxb"
      },
      "source": [
        "## Loss score"
      ]
    },
    {
      "cell_type": "code",
      "execution_count": null,
      "metadata": {
        "id": "xwDen3npgROH"
      },
      "outputs": [],
      "source": [
        "def loss_score(hpr: float, mdd: float, ldd: int, sharpe: float, sortino: float) -> float:\n",
        "    return round(hpr + mdd / 10 - ldd / 100 + ((sharpe + sortino) / 2) ** 3, 6)"
      ]
    },
    {
      "cell_type": "markdown",
      "metadata": {
        "id": "rcrlCgxpgzSs"
      },
      "source": [
        "## Momentum"
      ]
    },
    {
      "cell_type": "code",
      "execution_count": null,
      "metadata": {
        "id": "QU5OKKz4hH76"
      },
      "outputs": [],
      "source": [
        "def momentum_algo(\n",
        "    data: pd.DataFrame,\n",
        "    fast_ema_window: int,\n",
        "    slow_ema_window: int,\n",
        "    ema_signal_window: int,\n",
        "    rsi_window: int,\n",
        "    rsi_threshold: int,\n",
        "    atr_window: int,\n",
        "    atr_multiplier: float\n",
        "    ) -> pd.DataFrame:\n",
        "    \"\"\"\n",
        "    Executes a momentum-based trading strategy using MACD, RSI, and ATR indicators.\n",
        "\n",
        "    This algorithm seeks to identify and exploit price trends (momentum) by:\n",
        "    - Opening positions when MACD and RSI jointly signal trend confirmation.\n",
        "    - Closing positions on reaching take-profit or stop-loss thresholds,\n",
        "      or when technical indicators suggest weakening momentum.\n",
        "\n",
        "    Stop-loss and take-profit levels are automatically determined at the time of entry,\n",
        "    based on the Average True Range (ATR) and a configurable multiplier,\n",
        "    allowing the system to adapt to market volatility.\n",
        "\n",
        "    Parameters:\n",
        "        data (pd.DataFrame): Historical OHLC data with at least the following columns: ['High', 'Low', 'Close'].\n",
        "        fast_ema_window (int): EMA window size for the fast component of the MACD.\n",
        "        slow_ema_window (int): EMA window size for the slow component of the MACD.\n",
        "        ema_signal_window (int): EMA window for the MACD signal line.\n",
        "        rsi_window (int): Window size for the RSI indicator.\n",
        "        rsi_threshold (int): RSI threshold to define overbought/oversold conditions.\n",
        "        atr_window (int): Window size for the Average True Range (ATR) calculation.\n",
        "        atr_multiplier (float): Multiplier for ATR to compute stop-loss and take-profit levels.\n",
        "\n",
        "    Returns:\n",
        "        pd.DataFrame: A DataFrame indexed by date containing:\n",
        "            - 'Asset': Simulated portfolio value (cash + unrealized positions) over time.\n",
        "            - 'Return': Daily percentage change in portfolio value.\n",
        "\n",
        "    Notes:\n",
        "        - Position sizing is based on using 50% of available cash at the time of entry.\n",
        "        - Positions are only opened if no other positions are active.\n",
        "        - The strategy supports both long and short positions.\n",
        "    \"\"\"\n",
        "    data = data.copy()\n",
        "    price_multiplier = MULTIPLIER * MARGIN_RATIO / ACCOUNT_RATIO\n",
        "\n",
        "    # Initialize trading variables\n",
        "    cash = ASSET_VALUE\n",
        "    holdings = []  # List of (entry_date, pos_type, entry_price, quantity, stop_loss_price, take_profit_price)\n",
        "    trading_data = pd.DataFrame(index = data.index, columns = ['Asset'])\n",
        "    trading_data['Asset'] = cash\n",
        "    trading_data['Asset'] = trading_data['Asset'].astype(float)\n",
        "\n",
        "    # Calculate technical indicators\n",
        "    data['MACD_diff'] = ta.trend.macd_diff(\n",
        "        data['Close'], window_slow=fast_ema_window, window_fast=slow_ema_window, window_sign=ema_signal_window\n",
        "    )\n",
        "    data['RSI'] = ta.momentum.rsi(data['Close'], window = rsi_window)\n",
        "    data['ATR'] = ta.volatility.average_true_range(data['High'], data['Low'], data['Close'], window = atr_window)\n",
        "\n",
        "    # Trading loop starting from the second day\n",
        "    for i in range(1, len(data)):\n",
        "        row = data.iloc[i]\n",
        "        if pd.isna(row['RSI']) or pd.isna(row['MACD_diff']) or pd.isna(row['ATR']):\n",
        "            continue\n",
        "        date = data.index[i]\n",
        "        cur_price = row['Close']\n",
        "\n",
        "        # Check for positions to close\n",
        "        for position in holdings[:]:\n",
        "            entry_date, pos_type, entry_price, quantity, stop_loss_price, take_profit_price = position\n",
        "\n",
        "            if pos_type == 'LONG':\n",
        "                if (cur_price >= take_profit_price or cur_price <= stop_loss_price or\n",
        "                    row['RSI'] >= (100 - rsi_threshold) or row['MACD_diff'] < 0):\n",
        "                    # Closing a LONG position (selling)\n",
        "                    cash += quantity * cur_price * price_multiplier - quantity * TAX * MULTIPLIER\n",
        "                    holdings.remove(position)\n",
        "            else:  # SHORT\n",
        "                if (cur_price <= take_profit_price or cur_price >= stop_loss_price or\n",
        "                    row['RSI'] <= rsi_threshold or row['MACD_diff'] > 0):\n",
        "                    # Closing a SHORT position (buying back)\n",
        "                    cash -= quantity * cur_price * price_multiplier + quantity * TAX * MULTIPLIER\n",
        "                    holdings.remove(position)\n",
        "\n",
        "        # Calculate unrealized P&L and update asset value\n",
        "        total_unrealized_pnf = sum(\n",
        "            cur_price * price_multiplier * pos[3] if pos[1] == 'LONG'\n",
        "            else -cur_price * price_multiplier * pos[3] for pos in holdings\n",
        "        )\n",
        "        asset_value = cash + total_unrealized_pnf\n",
        "        trading_data.loc[date, 'Asset'] = asset_value\n",
        "\n",
        "        # Open new position if no holdings\n",
        "        if not holdings:\n",
        "\n",
        "            # LONG position entry conditions\n",
        "            if row['MACD_diff'] > 0 and 50 < row['RSI'] < (100 - rsi_threshold):\n",
        "                # Use half of cash, accounting for TAX\n",
        "                quantity = floor((cash / 2) / (cur_price * price_multiplier))\n",
        "                if quantity > 0:\n",
        "                    cash -= quantity * cur_price * price_multiplier\n",
        "                    stop_loss_price = cur_price - row['ATR'] * atr_multiplier\n",
        "                    take_profit_price = cur_price + row['ATR'] * atr_multiplier\n",
        "                    holdings.append((date, 'LONG', cur_price, quantity, stop_loss_price, take_profit_price))\n",
        "\n",
        "            # SHORT position entry conditions\n",
        "            elif row['MACD_diff'] < 0 and rsi_threshold < row['RSI'] < 50:\n",
        "                # Use half of cash to determine quantity\n",
        "                quantity = min(floor((cash / 2) / (cur_price * price_multiplier)), 3)\n",
        "                if quantity > 0:\n",
        "                    cash += quantity * cur_price * price_multiplier\n",
        "                    stop_loss_price = cur_price + row['ATR'] * atr_multiplier\n",
        "                    take_profit_price = cur_price - row['ATR'] * atr_multiplier\n",
        "                    holdings.append((date, 'SHORT', cur_price, quantity, stop_loss_price, take_profit_price))\n",
        "\n",
        "    trading_data['Return'] = trading_data['Asset'].pct_change()\n",
        "\n",
        "    return trading_data"
      ]
    },
    {
      "cell_type": "code",
      "execution_count": null,
      "metadata": {
        "id": "jB5NDd8Mgytv"
      },
      "outputs": [],
      "source": [
        "def momentum_optimize(data: pd.DataFrame) -> pd.DataFrame:\n",
        "    data = data.copy()\n",
        "\n",
        "    fast_ema_range = range(7, 15)\n",
        "    slow_ema_range = range(20, 30)\n",
        "    ema_signal_range = range(7, 10)\n",
        "    rsi_range = range(2, 8)\n",
        "    rsi_threshold_range = [20, 25, 30]\n",
        "    atr_range = range(8, 20)\n",
        "    atr_multiplier_range = [2.0, 2.5, 3.0]\n",
        "\n",
        "    # Generate all possible parameter combinations\n",
        "    param_combinations = list(itertools.product(\n",
        "        fast_ema_range, slow_ema_range, ema_signal_range,\n",
        "        rsi_range, rsi_threshold_range,\n",
        "        atr_range, atr_multiplier_range\n",
        "    ))\n",
        "\n",
        "    # Preallocate DataFrame with correct size\n",
        "    table = pd.DataFrame(index = range(len(param_combinations)), columns = [\n",
        "        'Fast EMA Window', 'Slow EMA Window', 'EMA Signal Window', 'RSI Window', 'RSI Threshold', 'ATR Window', 'ATR Multiplier',\n",
        "        'Accumulate Rate', 'Maximum Drawdown', 'Longest Drawdown', 'Sharpe Ratio', 'Sortino Ratio',\n",
        "        'Score'\n",
        "    ])\n",
        "\n",
        "    # Loop through combinations with tqdm progress bar\n",
        "    for index, (f, s, e, r, r_t, a, a_m) in tqdm(enumerate(param_combinations), total=len(param_combinations), desc=\"Optimizing\"):\n",
        "        params = (f, s, e, r, r_t, a, a_m)\n",
        "        result = momentum_algo(data, f, s, e, r, r_t, a, a_m)\n",
        "\n",
        "        hpr = holding_period_returns(result)\n",
        "        mdd = maximum_drawdown(result)\n",
        "        ldd = longest_drawdown(result)\n",
        "        sharpe = sharpe_ratio(result)\n",
        "        sortino = sortino_ratio(result)\n",
        "        score = loss_score(hpr, mdd, ldd, sharpe, sortino)\n",
        "\n",
        "        table.loc[index] = [*params, hpr, mdd, ldd, sharpe, sortino, score]\n",
        "\n",
        "    return table.sort_values('Score', ascending = False)"
      ]
    },
    {
      "cell_type": "code",
      "execution_count": null,
      "metadata": {
        "id": "XEOGPs4RimXe"
      },
      "outputs": [],
      "source": [
        "def dynamic_momentum_algo(\n",
        "    data: pd.DataFrame,\n",
        "    fast_ema_window: int,\n",
        "    slow_ema_window: int,\n",
        "    ema_signal_window: int,\n",
        "    rsi_window: int,\n",
        "    rsi_threshold: int,\n",
        "    atr_window: int\n",
        "    ) -> pd.DataFrame:\n",
        "    \"\"\"\n",
        "    Executes a dynamic-ATR momentum trading strategy using MACD, RSI, and adaptive ATR-based risk management.\n",
        "\n",
        "    This algorithm identifies momentum-driven trading opportunities by combining:\n",
        "    - MACD for trend confirmation.\n",
        "    - RSI for momentum filtering and overbought/oversold detection.\n",
        "    - ATR for volatility-aware stop-loss and take-profit placement, dynamically adjusted\n",
        "      based on short-term and long-term volatility comparisons.\n",
        "\n",
        "    Parameters:\n",
        "        data (pd.DataFrame): Historical price data with at least the following columns: ['High', 'Low', 'Close'].\n",
        "        fast_ema_window (int): Fast EMA window size for MACD calculation.\n",
        "        slow_ema_window (int): Slow EMA window size for MACD calculation.\n",
        "        ema_signal_window (int): Signal line EMA window size for MACD.\n",
        "        rsi_window (int): Rolling window size for the RSI indicator.\n",
        "        rsi_threshold (int): RSI cutoff used for both entry and exit conditions (upper and lower band symmetry).\n",
        "        atr_window (int): Rolling window size for ATR calculation used in position sizing and risk control.\n",
        "\n",
        "    Returns:\n",
        "        pd.DataFrame: A DataFrame indexed by datetime, containing:\n",
        "            - 'Asset': Simulated portfolio value (including unrealized P&L) over time.\n",
        "            - 'Return': Daily percentage returns of the portfolio.\n",
        "\n",
        "    Note: Position size is calculated to use 50% of available capital at entry.\n",
        "    \"\"\"\n",
        "    data = data.copy()\n",
        "    price_multiplier = MULTIPLIER * MARGIN_RATIO / ACCOUNT_RATIO\n",
        "\n",
        "    # Initialize trading variables\n",
        "    cash = ASSET_VALUE\n",
        "    holdings = []  # List of (entry_date, pos_type, entry_price, quantity, stop_loss_price, take_profit_price)\n",
        "    trading_data = pd.DataFrame(index = data.index, columns = ['Asset'])\n",
        "    trading_data['Asset'] = cash\n",
        "    trading_data['Asset'] = trading_data['Asset'].astype(float)\n",
        "\n",
        "    # Calculate technical indicators\n",
        "    data['MACD_diff'] = ta.trend.macd_diff(\n",
        "        data['Close'], window_slow=fast_ema_window, window_fast=slow_ema_window, window_sign=ema_signal_window\n",
        "    )\n",
        "    data['RSI'] = ta.momentum.rsi(data['Close'], window = rsi_window)\n",
        "    data['ATR'] = ta.volatility.average_true_range(data['High'], data['Low'], data['Close'], window = atr_window)\n",
        "    data['ATR_short'] = ta.volatility.average_true_range(data['High'], data['Low'], data['Close'], window = 10)\n",
        "    data['ATR_long'] = ta.volatility.average_true_range(data['High'], data['Low'], data['Close'], window = 50)\n",
        "\n",
        "    # Trading loop starting from the second day\n",
        "    for i in range(1, len(data)):\n",
        "        row = data.iloc[i]\n",
        "        if pd.isna(row['RSI']) or pd.isna(row['MACD_diff']) or pd.isna(row['ATR']):\n",
        "            continue\n",
        "        date = data.index[i]\n",
        "        cur_price = row['Close']\n",
        "\n",
        "        # Determine ATR multiplier based on volatility trend\n",
        "        if row['ATR_short'] > row['ATR_long']:\n",
        "            atr_multiplier = 2.0  # Higher volatility → wider SL/TP\n",
        "        else:\n",
        "            atr_multiplier = 1.5  # Lower volatility → tighter SL/TP\n",
        "\n",
        "        # Check for positions to close\n",
        "        for position in holdings[:]:\n",
        "            entry_date, pos_type, entry_price, quantity, stop_loss_price, take_profit_price = position\n",
        "\n",
        "            if pos_type == 'LONG':\n",
        "                if (cur_price >= take_profit_price or cur_price <= stop_loss_price or\n",
        "                    row['RSI'] >= (100 - rsi_threshold) or row['MACD_diff'] < 0):\n",
        "                    # Closing a LONG position (selling)\n",
        "                    cash += quantity * cur_price * price_multiplier - quantity * TAX * MULTIPLIER\n",
        "                    holdings.remove(position)\n",
        "            else:  # SHORT\n",
        "                if (cur_price <= take_profit_price or cur_price >= stop_loss_price or\n",
        "                    row['RSI'] <= rsi_threshold or row['MACD_diff'] > 0):\n",
        "                    # Closing a SHORT position (buying back)\n",
        "                    cash -= quantity * cur_price * price_multiplier + quantity * TAX * MULTIPLIER\n",
        "                    holdings.remove(position)\n",
        "\n",
        "        # Calculate unrealized P&L and update asset value\n",
        "        total_unrealized_pnf = sum(\n",
        "            cur_price * price_multiplier * pos[3] if pos[1] == 'LONG'\n",
        "            else -cur_price * price_multiplier * pos[3] for pos in holdings\n",
        "        )\n",
        "        asset_value = cash + total_unrealized_pnf\n",
        "        trading_data.loc[date, 'Asset'] = asset_value\n",
        "\n",
        "        # Open new position if no holdings\n",
        "        if not holdings:\n",
        "\n",
        "            # LONG position entry conditions\n",
        "            if row['MACD_diff'] > 0 and 50 < row['RSI'] < (100 - rsi_threshold):\n",
        "                # Use half of cash, accounting for TAX\n",
        "                quantity = floor((cash / 2) / (cur_price * price_multiplier))\n",
        "                if quantity > 0:\n",
        "                    cash -= quantity * cur_price * price_multiplier\n",
        "                    stop_loss_price = cur_price - row['ATR'] * atr_multiplier\n",
        "                    take_profit_price = cur_price + row['ATR'] * atr_multiplier\n",
        "                    holdings.append((date, 'LONG', cur_price, quantity, stop_loss_price, take_profit_price))\n",
        "\n",
        "            # SHORT position entry conditions\n",
        "            elif row['MACD_diff'] < 0 and rsi_threshold < row['RSI'] < 50:\n",
        "                # Use half of cash to determine quantity\n",
        "                quantity = min(floor((cash / 2) / (cur_price * price_multiplier)), 3)\n",
        "                if quantity > 0:\n",
        "                    cash += quantity * cur_price * price_multiplier\n",
        "                    stop_loss_price = cur_price + row['ATR'] * atr_multiplier\n",
        "                    take_profit_price = cur_price - row['ATR'] * atr_multiplier\n",
        "                    holdings.append((date, 'SHORT', cur_price, quantity, stop_loss_price, take_profit_price))\n",
        "\n",
        "    trading_data['Return'] = trading_data['Asset'].pct_change()\n",
        "\n",
        "    return trading_data"
      ]
    },
    {
      "cell_type": "code",
      "execution_count": null,
      "metadata": {
        "id": "Ak7CkIx3hBIb"
      },
      "outputs": [],
      "source": [
        "def dynamic_momentum_optimize(data: pd.DataFrame) -> pd.DataFrame:\n",
        "    data = data.copy()\n",
        "\n",
        "    fast_ema_range = range(7, 15)\n",
        "    slow_ema_range = range(20, 30)\n",
        "    ema_signal_range = range(7, 10)\n",
        "    rsi_range = range(2, 10)\n",
        "    rsi_threshold_range = [20, 25, 30]\n",
        "    atr_range = range(8, 20)\n",
        "\n",
        "    # Generate all possible parameter combinations\n",
        "    param_combinations = list(itertools.product(\n",
        "        fast_ema_range, slow_ema_range, ema_signal_range,\n",
        "        rsi_range, rsi_threshold_range, atr_range\n",
        "    ))\n",
        "\n",
        "    # Preallocate DataFrame with correct size\n",
        "    table = pd.DataFrame(index = range(len(param_combinations)), columns = [\n",
        "        'Fast EMA Window', 'Slow EMA Window', 'EMA Signal Window', 'RSI Window', 'RSI Threshold', 'ATR Window',\n",
        "        'Accumulate Rate', 'Maximum Drawdown', 'Longest Drawdown', 'Sharpe Ratio', 'Sortino Ratio',\n",
        "        'Score'\n",
        "    ])\n",
        "\n",
        "    # Loop through combinations with tqdm progress bar\n",
        "    for index, (f, s, e, r, r_t, a) in tqdm(enumerate(param_combinations), total=len(param_combinations), desc=\"Optimizing\"):\n",
        "        params = (f, s, e, r, r_t, a)\n",
        "        result = dynamic_momentum_algo(data, f, s, e, r, r_t, a)\n",
        "\n",
        "        hpr = holding_period_returns(result)\n",
        "        mdd = maximum_drawdown(result)\n",
        "        ldd = longest_drawdown(result)\n",
        "        sharpe = sharpe_ratio(result)\n",
        "        sortino = sortino_ratio(result)\n",
        "        score = loss_score(hpr, mdd, ldd, sharpe, sortino)\n",
        "\n",
        "        table.loc[index] = [*params, hpr, mdd, ldd, sharpe, sortino, score]\n",
        "\n",
        "    return table.sort_values('Score', ascending = False)"
      ]
    },
    {
      "cell_type": "markdown",
      "metadata": {
        "id": "aeAmkS_FioXz"
      },
      "source": [
        "## Mean-Reversion"
      ]
    },
    {
      "cell_type": "code",
      "execution_count": null,
      "metadata": {
        "id": "Z8Q0eMIrif3o"
      },
      "outputs": [],
      "source": [
        "def reversion_algo(\n",
        "    data: pd.DataFrame,\n",
        "    fast_ema_window: int,\n",
        "    slow_ema_window: int,\n",
        "    ema_signal_window: int,\n",
        "    rsi_window: int,\n",
        "    atr_window: int,\n",
        "    atr_multiplier: float\n",
        "    ) -> pd.DataFrame:\n",
        "    \"\"\"\n",
        "    Executes a mean-reversion trading strategy using MACD, RSI, and ATR indicators.\n",
        "\n",
        "    This algorithm aims to capture profits from price reversals by:\n",
        "    - Entering positions when the market shows signs of being overbought or oversold.\n",
        "    - Using MACD to confirm the price direction, RSI to detect extreme conditions,\n",
        "      and ATR to dynamically set stop-loss and take-profit levels based on volatility.\n",
        "\n",
        "    Parameters:\n",
        "        data (pd.DataFrame): Historical OHLC price data with required columns: ['High', 'Low', 'Close'].\n",
        "        fast_ema_window (int): Fast EMA window size for MACD calculation.\n",
        "        slow_ema_window (int): Slow EMA window size for MACD calculation.\n",
        "        ema_signal_window (int): Signal line EMA window size for MACD.\n",
        "        rsi_window (int): Rolling window size for the RSI indicator.\n",
        "        atr_window (int): Rolling window size for ATR volatility measurement.\n",
        "        atr_multiplier (float): Multiplier for ATR to determine stop-loss and take-profit boundaries.\n",
        "\n",
        "    Returns:\n",
        "        pd.DataFrame: DataFrame indexed by date containing:\n",
        "            - 'Asset': Simulated portfolio value (cash + unrealized positions) over time.\n",
        "            - 'Return': Daily percentage return of the simulated portfolio.\n",
        "\n",
        "    Notes:\n",
        "        - The strategy trades both long and short positions, but only one position is held at a time.\n",
        "        - Position size is calculated to deploy 50% of available cash at entry.\n",
        "    \"\"\"\n",
        "    data = data.copy()\n",
        "    price_multiplier = MULTIPLIER * MARGIN_RATIO / ACCOUNT_RATIO\n",
        "\n",
        "    # Initialize trading variables\n",
        "    cash = ASSET_VALUE\n",
        "    holdings = []  # List of (entry_date, pos_type, entry_price, quantity, stop_loss_price, take_profit_price)\n",
        "    trading_data = pd.DataFrame(index = data.index, columns = ['Asset'])\n",
        "    trading_data['Asset'] = cash\n",
        "    trading_data['Asset'] = trading_data['Asset'].astype(float)\n",
        "\n",
        "    # Calculate technical indicators\n",
        "    data['MACD_diff'] = ta.trend.macd_diff(\n",
        "        data['Close'], window_slow=fast_ema_window, window_fast=slow_ema_window, window_sign=ema_signal_window\n",
        "    )\n",
        "    data['RSI'] = ta.momentum.rsi(data['Close'], window = rsi_window)\n",
        "    data['ATR'] = ta.volatility.average_true_range(data['High'], data['Low'], data['Close'], window = atr_window)\n",
        "\n",
        "    # Trading loop starting from the second day\n",
        "    for i in range(1, len(data)):\n",
        "        row = data.iloc[i]\n",
        "        if pd.isna(row['RSI']) or pd.isna(row['MACD_diff']) or pd.isna(row['ATR']):\n",
        "            continue\n",
        "        date = data.index[i]\n",
        "        cur_price = row['Close']\n",
        "\n",
        "        # Check for positions to close\n",
        "        for position in holdings[:]:\n",
        "            entry_date, pos_type, entry_price, quantity, stop_loss_price, take_profit_price = position\n",
        "\n",
        "            if pos_type == 'LONG':\n",
        "                if (cur_price >= take_profit_price or cur_price <= stop_loss_price or\n",
        "                    row['RSI'] >= 50 or row['MACD_diff'] < 0):\n",
        "                    # Closing a LONG position (selling)\n",
        "                    cash += quantity * cur_price * price_multiplier - quantity * TAX * MULTIPLIER\n",
        "                    holdings.remove(position)\n",
        "            else:  # SHORT\n",
        "                if (cur_price <= take_profit_price or cur_price >= stop_loss_price or\n",
        "                    row['RSI'] <= 50 or row['MACD_diff'] > 0):\n",
        "                    # Closing a SHORT position (buying back)\n",
        "                    cash -= quantity * cur_price * price_multiplier + quantity * TAX * MULTIPLIER\n",
        "                    holdings.remove(position)\n",
        "\n",
        "        # Calculate unrealized P&L and update asset value\n",
        "        total_unrealized_pnf = sum(\n",
        "            cur_price * price_multiplier * pos[3] if pos[1] == 'LONG'\n",
        "            else -cur_price * price_multiplier * pos[3] for pos in holdings\n",
        "        )\n",
        "        asset_value = cash + total_unrealized_pnf\n",
        "        trading_data.loc[date, 'Asset'] = asset_value\n",
        "\n",
        "        # Open new position if no holdings\n",
        "        if not holdings:\n",
        "\n",
        "            # LONG position entry conditions\n",
        "            if row['MACD_diff'] > 0 and row['RSI'] < 30:\n",
        "                # Use half of cash, accounting for TAX\n",
        "                quantity = floor((cash / 2) / (cur_price * price_multiplier))\n",
        "                if quantity > 0:\n",
        "                    cash -= quantity * cur_price * price_multiplier\n",
        "                    stop_loss_price = cur_price - row['ATR'] * atr_multiplier\n",
        "                    take_profit_price = cur_price + row['ATR'] * atr_multiplier\n",
        "                    holdings.append((date, 'LONG', cur_price, quantity, stop_loss_price, take_profit_price))\n",
        "\n",
        "            # SHORT position entry conditions\n",
        "            elif row['MACD_diff'] < 0 and row['RSI'] > 70:\n",
        "                # Use half of cash to determine quantity\n",
        "                quantity = min(floor((cash / 2) / (cur_price * price_multiplier)), 3)\n",
        "                if quantity > 0:\n",
        "                    cash += quantity * cur_price * price_multiplier\n",
        "                    stop_loss_price = cur_price + row['ATR'] * atr_multiplier\n",
        "                    take_profit_price = cur_price - row['ATR'] * atr_multiplier\n",
        "                    holdings.append((date, 'SHORT', cur_price, quantity, stop_loss_price, take_profit_price))\n",
        "\n",
        "    trading_data['Return'] = trading_data['Asset'].pct_change()\n",
        "\n",
        "    return trading_data"
      ]
    },
    {
      "cell_type": "code",
      "execution_count": null,
      "metadata": {
        "id": "JFluYoEAjL8X"
      },
      "outputs": [],
      "source": [
        "def reversion_optimize(data: pd.DataFrame) -> pd.DataFrame:\n",
        "    data = data.copy()\n",
        "\n",
        "    fast_ema_range = range(10, 20)\n",
        "    slow_ema_range = range(25, 40)\n",
        "    ema_signal_range = range(9, 15)\n",
        "    rsi_range = range(10, 15)\n",
        "    atr_range = range(6, 15)\n",
        "    atr_multiplier_range = [1.0, 1.5, 2.0]\n",
        "\n",
        "    # Generate all possible parameter combinations\n",
        "    param_combinations = list(itertools.product(fast_ema_range, slow_ema_range, ema_signal_range, rsi_range, atr_range, atr_multiplier_range))\n",
        "\n",
        "    # Preallocate DataFrame with correct size\n",
        "    table = pd.DataFrame(index = range(len(param_combinations)), columns = [\n",
        "        'Fast EMA Window', 'Slow EMA Window', 'EMA Signal Window', 'RSI Window', 'ATR Window', 'ATR Multiplier',\n",
        "        'Accumulate Rate', 'Maximum Drawdown', 'Longest Drawdown', 'Sharpe Ratio', 'Sortino Ratio',\n",
        "        'Score'\n",
        "    ])\n",
        "\n",
        "    # Loop through combinations with tqdm progress bar\n",
        "    for index, (f, s, e, r, a, a_m) in tqdm(enumerate(param_combinations), total = len(param_combinations), desc = \"Optimizing\"):\n",
        "        params = (f, s, e, r, a, a_m)\n",
        "        result = reversion_algo(data, f, s, e, r, a, a_m)\n",
        "\n",
        "        hpr = holding_period_returns(result)\n",
        "        mdd = maximum_drawdown(result)\n",
        "        ldd = longest_drawdown(result)\n",
        "        sharpe = sharpe_ratio(result)\n",
        "        sortino = sortino_ratio(result)\n",
        "        score = loss_score(hpr, mdd, ldd, sharpe, sortino)\n",
        "\n",
        "        table.loc[index] = [*params, hpr, mdd, ldd, sharpe, sortino, score]\n",
        "\n",
        "    return table.sort_values('Score', ascending = False)"
      ]
    },
    {
      "cell_type": "code",
      "execution_count": null,
      "metadata": {
        "id": "EJmohIJhjFMS"
      },
      "outputs": [],
      "source": [
        "def dynamic_reversion_algo(\n",
        "    data: pd.DataFrame,\n",
        "    fast_ema_window: int,\n",
        "    slow_ema_window: int,\n",
        "    ema_signal_window: int,\n",
        "    rsi_window: int,\n",
        "    atr_window: int\n",
        "    ) -> pd.DataFrame:\n",
        "    \"\"\"\n",
        "    Executes a dynamic-ATR mean-reversion trading strategy using MACD, RSI, and adaptive volatility-based risk management.\n",
        "\n",
        "    This algorithm identifies potential price reversals by:\n",
        "    - Using MACD to detect trend direction and momentum shifts.\n",
        "    - Using RSI to identify overbought and oversold conditions.\n",
        "    - Using ATR to set stop-loss and take-profit boundaries, dynamically adjusting the risk margin based on\n",
        "      short-term and long-term volatility comparisons.\n",
        "\n",
        "    Parameters:\n",
        "        data (pd.DataFrame): Historical price data, must contain: ['High', 'Low', 'Close'].\n",
        "        fast_ema_window (int): Fast EMA window size for MACD calculation.\n",
        "        slow_ema_window (int): Slow EMA window size for MACD calculation.\n",
        "        ema_signal_window (int): Signal line EMA window size for MACD.\n",
        "        rsi_window (int): Window size for the RSI indicator.\n",
        "        atr_window (int): Window size for the ATR calculation, used for stop-loss and take-profit setting.\n",
        "\n",
        "    Returns:\n",
        "        pd.DataFrame: A DataFrame indexed by datetime, containing:\n",
        "            - 'Asset': Simulated portfolio value over time (including unrealized P&L).\n",
        "            - 'Return': Daily percentage returns of the simulated asset value.\n",
        "\n",
        "    Note: Capital is allocated at 50% of available cash per trade.\n",
        "    \"\"\"\n",
        "    data = data.copy()\n",
        "    price_multiplier = MULTIPLIER * MARGIN_RATIO / ACCOUNT_RATIO\n",
        "\n",
        "    # Initialize trading variables\n",
        "    cash = ASSET_VALUE\n",
        "    holdings = []  # List of (entry_date, pos_type, entry_price, quantity, stop_loss_price, take_profit_price)\n",
        "    trading_data = pd.DataFrame(index = data.index, columns = ['Asset'])\n",
        "    trading_data['Asset'] = cash\n",
        "    trading_data['Asset'] = trading_data['Asset'].astype(float)\n",
        "\n",
        "    # Calculate technical indicators\n",
        "    data['MACD_diff'] = ta.trend.macd_diff(\n",
        "        data['Close'], window_slow=fast_ema_window, window_fast=slow_ema_window, window_sign=ema_signal_window\n",
        "    )\n",
        "    data['RSI'] = ta.momentum.rsi(data['Close'], window = rsi_window)\n",
        "    data['ATR'] = ta.volatility.average_true_range(data['High'], data['Low'], data['Close'], window = atr_window)\n",
        "    data['ATR_short'] = ta.volatility.average_true_range(data['High'], data['Low'], data['Close'], window = 10)\n",
        "    data['ATR_long'] = ta.volatility.average_true_range(data['High'], data['Low'], data['Close'], window = 50)\n",
        "\n",
        "    # Trading loop starting from the second day\n",
        "    for i in range(1, len(data)):\n",
        "        row = data.iloc[i]\n",
        "        if pd.isna(row['RSI']) or pd.isna(row['MACD_diff']) or pd.isna(row['ATR']):\n",
        "            continue\n",
        "        date = data.index[i]\n",
        "        cur_price = row['Close']\n",
        "\n",
        "        # Determine ATR multiplier based on volatility trend\n",
        "        if row['ATR_short'] > row['ATR_long']:\n",
        "            atr_multiplier = 2.0  # Higher volatility → wider SL/TP\n",
        "        else:\n",
        "            atr_multiplier = 1.5  # Lower volatility → tighter SL/TP\n",
        "\n",
        "        # Check for positions to close\n",
        "        for position in holdings[:]:\n",
        "            entry_date, pos_type, entry_price, quantity, stop_loss_price, take_profit_price = position\n",
        "\n",
        "            if pos_type == 'LONG':\n",
        "                if (cur_price >= take_profit_price or cur_price <= stop_loss_price or\n",
        "                    row['RSI'] >= 50 or row['MACD_diff'] < 0):\n",
        "                    # Closing a LONG position (selling)\n",
        "                    cash += quantity * cur_price * price_multiplier - quantity * TAX * MULTIPLIER\n",
        "                    holdings.remove(position)\n",
        "            else:  # SHORT\n",
        "                if (cur_price <= take_profit_price or cur_price >= stop_loss_price or\n",
        "                    row['RSI'] <= 50 or row['MACD_diff'] > 0):\n",
        "                    # Closing a SHORT position (buying back)\n",
        "                    cash -= quantity * cur_price * price_multiplier + quantity * TAX * MULTIPLIER\n",
        "                    holdings.remove(position)\n",
        "\n",
        "        # Calculate unrealized P&L and update asset value\n",
        "        total_unrealized_pnf = sum(\n",
        "            cur_price * price_multiplier * pos[3] if pos[1] == 'LONG'\n",
        "            else -cur_price * price_multiplier * pos[3] for pos in holdings\n",
        "        )\n",
        "        asset_value = cash + total_unrealized_pnf\n",
        "        trading_data.loc[date, 'Asset'] = asset_value\n",
        "\n",
        "        # Open new position if no holdings\n",
        "        if not holdings:\n",
        "\n",
        "            # LONG position entry conditions\n",
        "            if row['MACD_diff'] > 0 and row['RSI'] < 30:\n",
        "                # Use half of cash, accounting for TAX\n",
        "                quantity = floor((cash / 2) / (cur_price * price_multiplier))\n",
        "                if quantity > 0:\n",
        "                    cash -= quantity * cur_price * price_multiplier\n",
        "                    stop_loss_price = cur_price - row['ATR'] * atr_multiplier\n",
        "                    take_profit_price = cur_price + row['ATR'] * atr_multiplier\n",
        "                    holdings.append((date, 'LONG', cur_price, quantity, stop_loss_price, take_profit_price))\n",
        "\n",
        "            # SHORT position entry conditions\n",
        "            elif row['MACD_diff'] < 0 and row['RSI'] > 70:\n",
        "                # Use half of cash to determine quantity\n",
        "                quantity = min(floor((cash / 2) / (cur_price * price_multiplier)), 3)\n",
        "                if quantity > 0:\n",
        "                    cash += quantity * cur_price * price_multiplier\n",
        "                    stop_loss_price = cur_price + row['ATR'] * atr_multiplier\n",
        "                    take_profit_price = cur_price - row['ATR'] * atr_multiplier\n",
        "                    holdings.append((date, 'SHORT', cur_price, quantity, stop_loss_price, take_profit_price))\n",
        "\n",
        "    trading_data['Return'] = trading_data['Asset'].pct_change()\n",
        "\n",
        "    return trading_data"
      ]
    },
    {
      "cell_type": "code",
      "execution_count": null,
      "metadata": {
        "id": "2YEKdqwxjOlz"
      },
      "outputs": [],
      "source": [
        "def dynamic_reversion_optimize(data: pd.DataFrame) -> pd.DataFrame:\n",
        "    data = data.copy()\n",
        "\n",
        "    fast_ema_range = range(10, 20)\n",
        "    slow_ema_range = range(25, 40)\n",
        "    ema_signal_range = range(8, 15)\n",
        "    rsi_range = range(10, 15)\n",
        "    atr_range = range(6, 15)\n",
        "\n",
        "    # Generate all possible parameter combinations\n",
        "    param_combinations = list(itertools.product(fast_ema_range, slow_ema_range, ema_signal_range, rsi_range, atr_range))\n",
        "\n",
        "    # Preallocate DataFrame with correct size\n",
        "    table = pd.DataFrame(index = range(len(param_combinations)), columns = [\n",
        "        'Fast EMA Window', 'Slow EMA Window', 'EMA Signal Window', 'RSI Window', 'ATR Window',\n",
        "        'Accumulate Rate', 'Maximum Drawdown', 'Longest Drawdown', 'Sharpe Ratio', 'Sortino Ratio',\n",
        "        'Score'\n",
        "    ])\n",
        "\n",
        "    # Loop through combinations with tqdm progress bar\n",
        "    for index, (f, s, e, r, a) in tqdm(enumerate(param_combinations), total = len(param_combinations), desc = \"Optimizing\"):\n",
        "        params = (f, s, e, r, a)\n",
        "        result = dynamic_reversion_algo(data, f, s, e, r, a)\n",
        "\n",
        "        hpr = holding_period_returns(result)\n",
        "        mdd = maximum_drawdown(result)\n",
        "        ldd = longest_drawdown(result)\n",
        "        sharpe = sharpe_ratio(result)\n",
        "        sortino = sortino_ratio(result)\n",
        "        score = loss_score(hpr, mdd, ldd, sharpe, sortino)\n",
        "\n",
        "        table.loc[index] = [*params, hpr, mdd, ldd, sharpe, sortino, score]\n",
        "\n",
        "    return table.sort_values('Score', ascending = False)"
      ]
    },
    {
      "cell_type": "markdown",
      "metadata": {
        "id": "vi_DrYS-jwhf"
      },
      "source": [
        "## Run Optimization"
      ]
    },
    {
      "cell_type": "code",
      "execution_count": null,
      "metadata": {
        "id": "V6rsSv5KkoGR"
      },
      "outputs": [],
      "source": [
        "data = in_sample_VN30F1M.copy()"
      ]
    },
    {
      "cell_type": "code",
      "execution_count": null,
      "metadata": {
        "id": "fSR6_FR1kWD5"
      },
      "outputs": [],
      "source": [
        "# Momentum\n",
        "momentum_grid_table = momentum_optimize(data)\n",
        "momentum_grid_table.to_csv('momentum_grid_table.csv')"
      ]
    },
    {
      "cell_type": "code",
      "execution_count": null,
      "metadata": {
        "id": "4MVCWdYCkZF8"
      },
      "outputs": [],
      "source": [
        "# Dynamic Momentum\n",
        "dynamic_momentum_grid_table = dynamic_momentum_optimize(data)\n",
        "dynamic_momentum_grid_table.to_csv('dynamic_momentum_grid_table.csv')"
      ]
    },
    {
      "cell_type": "code",
      "execution_count": null,
      "metadata": {
        "id": "2liCqheSkH0D"
      },
      "outputs": [],
      "source": [
        "data = in_sample_VN30F1M.copy()"
      ]
    },
    {
      "cell_type": "code",
      "execution_count": null,
      "metadata": {
        "id": "iIilRdiFjqPh"
      },
      "outputs": [],
      "source": [
        "# Reversion\n",
        "reversion_grid_table = reversion_optimize(data)\n",
        "reversion_grid_table.to_csv('reversion_grid_table.csv')"
      ]
    },
    {
      "cell_type": "code",
      "execution_count": null,
      "metadata": {
        "id": "54gzcHEqkycm"
      },
      "outputs": [],
      "source": [
        "# Dynamic Reversion\n",
        "dynamic_reversion_grid_table = dynamic_reversion_optimize(data)\n",
        "dynamic_reversion_grid_table.to_csv('dynamic_reversion_grid_table.csv')"
      ]
    },
    {
      "cell_type": "markdown",
      "metadata": {
        "id": "TEFCwzKglNXO"
      },
      "source": [
        "## Optuna"
      ]
    },
    {
      "cell_type": "markdown",
      "metadata": {
        "id": "KqjalOVollJY"
      },
      "source": [
        "### Algo"
      ]
    },
    {
      "cell_type": "code",
      "execution_count": null,
      "metadata": {
        "id": "ETqQ-lTulPNf"
      },
      "outputs": [],
      "source": [
        "import optuna"
      ]
    },
    {
      "cell_type": "code",
      "execution_count": null,
      "metadata": {
        "id": "Hqeytv9vlwz7"
      },
      "outputs": [],
      "source": [
        "def objective(trial: optuna.Trial, data: pd.DataFrame) -> float:\n",
        "    \"\"\"Optimizes final in-sample asset value.\"\"\"\n",
        "    # suggest parameters\n",
        "    # Momentum\n",
        "    mp = trial.suggest_int('momentum_fast_ema', 1, 25)\n",
        "    ms = trial.suggest_int('momentum_slow_ema', 1, 40)\n",
        "    mm = trial.suggest_int('momentum_signal_ema', 1, 20)\n",
        "    rw = trial.suggest_int('momentum_rsi_window', 1, 50)\n",
        "    rt = trial.suggest_int('momentum_rsi_threshold', 1, 30)\n",
        "    aw = trial.suggest_int('momentum_atr_window', 1, 20)\n",
        "    at = trial.suggest_float('momentum_atr_multiplier', 0.5, 10.0)\n",
        "    rp = trial.suggest_int('reversion_fast_ema', 1, 25)\n",
        "    rs = trial.suggest_int('reversion_slow_ema', 1, 40)\n",
        "    rm = trial.suggest_int('reversion_signal_ema', 1, 20)\n",
        "    rw2= trial.suggest_int('reversion_rsi_window', 1, 50)\n",
        "    aw2= trial.suggest_int('reversion_atr_window', 1, 20)\n",
        "    at2= trial.suggest_float('reversion_atr_multiplier', 0.5, 10.0)\n",
        "\n",
        "    df = algo(\n",
        "        data, mp, ms, mm,\n",
        "        rw, rt, aw, at,\n",
        "        rp, rs, rm,\n",
        "        rw2, aw2, at2\n",
        "    )\n",
        "    return df['Asset'].iloc[-1]"
      ]
    },
    {
      "cell_type": "code",
      "execution_count": null,
      "metadata": {
        "id": "ReDbxNNCmA1k"
      },
      "outputs": [],
      "source": [
        "# We set the seed for the sampler so that the process can be replicated later.\n",
        "sampler = optuna.samplers.TPESampler(seed=4)\n",
        "\n",
        "study = optuna.create_study(direction='maximize', study_name=\"opt_VN30F1M\")\n",
        "study.optimize(lambda t: objective(t, in_sample_VN30F1M.copy()), n_trials=10000, timeout=86400)\n",
        "\n",
        "print(\"Best in-sample final value:\", study.best_value)\n",
        "print(\"Best hyperparameters:\", study.best_params)\n",
        "\n",
        "# Evaluate on out-of-sample\n",
        "print(\"\\nEvaluating on out-of-sample period...\")\n",
        "out_res = algo(\n",
        "    out_sample_VN30F1M.copy(),\n",
        "    **study.best_params\n",
        ")\n",
        "print(\"Out-of-sample final asset:\", out_res['Asset'].iloc[-1])"
      ]
    },
    {
      "cell_type": "markdown",
      "metadata": {
        "id": "N0MrkbKEmQ05"
      },
      "source": [
        "### Dynamic"
      ]
    },
    {
      "cell_type": "code",
      "execution_count": null,
      "metadata": {
        "id": "hPcML00kmKG1"
      },
      "outputs": [],
      "source": [
        "def objective(trial, data: pd.DataFrame) -> float:\n",
        "    m_fe = trial.suggest_int('momentum_fast_ema', 5, 20)\n",
        "    m_se = trial.suggest_int('momentum_slow_ema', 21, 50)\n",
        "    m_sig= trial.suggest_int('momentum_signal_ema', 5, 15)\n",
        "    m_rsi= trial.suggest_int('momentum_rsi_window', 5, 14)\n",
        "    m_thr= trial.suggest_int('momentum_rsi_threshold', 20, 50)\n",
        "    m_atw= trial.suggest_int('momentum_atr_window', 5, 20)\n",
        "    r_fe = trial.suggest_int('reversion_fast_ema', 5, 20)\n",
        "    r_se = trial.suggest_int('reversion_slow_ema', 20, 60)\n",
        "    r_sig= trial.suggest_int('reversion_signal_ema', 5, 20)\n",
        "    r_rsi= trial.suggest_int('reversion_rsi_window', 5, 20)\n",
        "    r_atw= trial.suggest_int('reversion_atr_window', 5, 20)\n",
        "    df = dynamic_algo(\n",
        "        data, m_fe, m_se, m_sig, m_rsi, m_thr, m_atw,\n",
        "        r_fe, r_se, r_sig, r_rsi, r_atw\n",
        "    )\n",
        "    return df['Asset'].iloc[-1]"
      ]
    },
    {
      "cell_type": "code",
      "execution_count": null,
      "metadata": {
        "id": "HqBhDLRLnOYg"
      },
      "outputs": [],
      "source": [
        "study = optuna.create_study(direction='maximize', study_name=\"dyn_VN30F1M\")\n",
        "study.optimize(lambda t: objective(t, in_sample_VN30F1M.copy()), n_trials=10000, timeout=86400)\n",
        "\n",
        "print(\"Best in-sample final value:\", study.best_value)\n",
        "print(\"Best hyperparameters:\", study.best_params)\n",
        "\n",
        "# Evaluate on out-of-sample\n",
        "print(\"\\nEvaluating on out-of-sample period...\")\n",
        "out_res = dynamic_algo(\n",
        "  out_sample_VN30F1M.copy(),\n",
        "  **study.best_params\n",
        ")\n",
        "print(\"Out-of-sample final asset:\", out_res['Asset'].iloc[-1])"
      ]
    },
    {
      "cell_type": "markdown",
      "metadata": {
        "id": "gts49_d4n9i-"
      },
      "source": [
        "# Out-Sample Backtesting"
      ]
    },
    {
      "cell_type": "markdown",
      "metadata": {
        "id": "qTzXFGckoDlD"
      },
      "source": [
        "## Non Dynamic"
      ]
    },
    {
      "cell_type": "code",
      "execution_count": null,
      "metadata": {
        "id": "iuw1k_vUn6CF"
      },
      "outputs": [],
      "source": [
        "MOMENTUM_FAST_EMA = 3\n",
        "MOMENTUM_SLOW_EMA = 27\n",
        "MOMENTUM_SIGNAL_EMA = 6\n",
        "MOMENTUM_RSI_WINDOW = 6\n",
        "MOMENTUM_RSI_THRESHOLD = 8\n",
        "MOMENTUM_ATR_WINDOW = 12\n",
        "MOMENTUM_ATR_MULTIPLIER = 9.044327484896122\n",
        "\n",
        "REVERSION_FAST_EMA = 1\n",
        "REVERSION_SLOW_EMA = 16\n",
        "REVERSION_SIGNAL_EMA = 14\n",
        "REVERSION_RSI_WINDOW = 28\n",
        "REVERSION_ATR_WINDOW = 20\n",
        "REVERSION_ATR_MULTIPLIER = 14.568689990866729"
      ]
    },
    {
      "cell_type": "code",
      "execution_count": null,
      "metadata": {
        "id": "zbNq8dkNopsQ"
      },
      "outputs": [],
      "source": [
        "result = algo(\n",
        "    data,\n",
        "    MOMENTUM_FAST_EMA, MOMENTUM_SLOW_EMA, MOMENTUM_SIGNAL_EMA,\n",
        "    MOMENTUM_RSI_WINDOW, MOMENTUM_RSI_THRESHOLD, MOMENTUM_ATR_WINDOW, MOMENTUM_ATR_MULTIPLIER,\n",
        "    REVERSION_FAST_EMA, REVERSION_SLOW_EMA, REVERSION_SIGNAL_EMA,\n",
        "    REVERSION_RSI_WINDOW, REVERSION_ATR_WINDOW, REVERSION_ATR_MULTIPLIER\n",
        ")"
      ]
    },
    {
      "cell_type": "code",
      "execution_count": null,
      "metadata": {
        "colab": {
          "base_uri": "https://localhost:8080/",
          "height": 1000
        },
        "id": "bhzwn-UwpASP",
        "outputId": "4b185a5e-6abd-41cd-83ad-72f5edd3c58f"
      },
      "outputs": [],
      "source": [
        "init_date = result.index[0]\n",
        "cur_date = result.index[-1]\n",
        "cur_asset_value = result['Asset'].iloc[-1]\n",
        "init_asset_value = result['Asset'].iloc[0]\n",
        "accum_return_rate = (cur_asset_value / init_asset_value - 1) * 100\n",
        "print(f\"Holding Period Return: {accum_return_rate:.2f}%\")\n",
        "print(f\"Holding Period: từ {init_date} đến {cur_date}\")\n",
        "\n",
        "\n",
        "plt.figure(figsize=(13, 6))\n",
        "plt.plot(result.index, result['Asset'], label='Asset Value', color='blue')\n",
        "plt.xlabel('Date')\n",
        "plt.ylabel('Asset Value')\n",
        "plt.title('Asset Value Over Time with Holding Period Return')\n",
        "plt.annotate(\n",
        "    f\"Holding Period Return: {accum_return_rate:.2f}%\", xy = (data.index[-1], cur_asset_value),\n",
        "    xytext = (0.6, 0.9), textcoords = 'axes fraction', arrowprops = dict(facecolor = 'black', arrowstyle = '->'),\n",
        "    bbox = dict(boxstyle = 'round, pad = 0.5', fc = 'yellow', alpha = 0.5), fontsize = 12\n",
        ")\n",
        "plt.legend()\n",
        "plt.show()\n",
        "\n",
        "mdd_value = maximum_drawdown(result)\n",
        "print(mdd_value)\n",
        "trough_date = result['drawdown'].idxmin()\n",
        "print(type(trough_date))\n",
        "\n",
        "# ----------------------------\n",
        "peak_date = result.loc[:trough_date, 'Asset'].idxmax()\n",
        "print(\"Peak date:\", peak_date)\n",
        "print(\"Trough date:\", trough_date)\n",
        "print(\"MDD:\", result['drawdown'].min() * 100, \"%\")\n",
        "plt.figure(figsize=(12, 6))\n",
        "plt.plot(data.index, result['Asset'], label='Asset Value', color='blue')\n",
        "plt.axvspan(float(mdates.date2num(trough_date)), float(mdates.date2num(peak_date)), color = 'red', alpha = 0.3, label = 'Max Drawdown Period')\n",
        "plt.xlabel('Date')\n",
        "plt.ylabel('Asset Value')\n",
        "plt.title('Asset Value & Maximum Drawdown Period')\n",
        "plt.legend()\n",
        "plt.show()\n",
        "\n",
        "\n",
        "# ------------------------------\n",
        "\n",
        "daily_return = result['Asset'].pct_change().dropna()\n",
        "plt.figure(figsize = (13, 6))\n",
        "plt.plot(result.index[1:], daily_return, linestyle = '-', color = 'dodgerblue', label = 'Daily Return')\n",
        "plt.title(\"Daily Return Graph\", fontsize = 16)\n",
        "plt.xlabel(\"Date\", fontsize = 14)\n",
        "plt.ylabel(\"Daily Return\", fontsize = 14)\n",
        "plt.legend()\n",
        "plt.grid(True, linestyle='--', alpha = 0.7)\n",
        "plt.tight_layout()\n",
        "plt.show()\n",
        "sharpe = sharpe_ratio(result)\n",
        "print(\"Sharpe Ratio: \", sharpe)"
      ]
    },
    {
      "cell_type": "markdown",
      "metadata": {
        "id": "zR46li7hoGAi"
      },
      "source": [
        "## Dynamic"
      ]
    },
    {
      "cell_type": "code",
      "execution_count": null,
      "metadata": {
        "id": "voMOpa5eoHeq"
      },
      "outputs": [],
      "source": [
        "MOMENTUM_FAST_EMA = 7\n",
        "MOMENTUM_SLOW_EMA = 34\n",
        "MOMENTUM_SIGNAL_EMA = 5\n",
        "MOMENTUM_RSI_WINDOW = 14\n",
        "MOMENTUM_RSI_THRESHOLD = 22\n",
        "MOMENTUM_ATR_WINDOW = 14\n",
        "\n",
        "REVERSION_FAST_EMA = 14\n",
        "REVERSION_SLOW_EMA = 29\n",
        "REVERSION_SIGNAL_EMA = 11\n",
        "REVERSION_RSI_WINDOW = 11\n",
        "REVERSION_ATR_WINDOW = 5"
      ]
    },
    {
      "cell_type": "code",
      "execution_count": null,
      "metadata": {
        "id": "_DYnYD2No5Dc"
      },
      "outputs": [],
      "source": [
        "result = dynamic_algo(\n",
        "    data,\n",
        "    MOMENTUM_FAST_EMA, MOMENTUM_SLOW_EMA, MOMENTUM_SIGNAL_EMA,MOMENTUM_RSI_WINDOW, MOMENTUM_RSI_THRESHOLD, MOMENTUM_ATR_WINDOW,\n",
        "    REVERSION_FAST_EMA, REVERSION_SLOW_EMA, REVERSION_SIGNAL_EMA, REVERSION_RSI_WINDOW, REVERSION_ATR_WINDOW\n",
        ")"
      ]
    },
    {
      "cell_type": "code",
      "execution_count": null,
      "metadata": {
        "colab": {
          "base_uri": "https://localhost:8080/",
          "height": 1000
        },
        "id": "3R_bEzdEpBX_",
        "outputId": "dfe1ee1c-0d70-488a-c899-c2e893baf30a"
      },
      "outputs": [],
      "source": [
        "init_date = result.index[0]\n",
        "cur_date = result.index[-1]\n",
        "cur_asset_value = result['Asset'].iloc[-1]\n",
        "init_asset_value = result['Asset'].iloc[0]\n",
        "accum_return_rate = (cur_asset_value / init_asset_value - 1) * 100\n",
        "print(f\"Holding Period Return: {accum_return_rate:.2f}%\")\n",
        "print(f\"Holding Period: từ {init_date} đến {cur_date}\")\n",
        "\n",
        "\n",
        "plt.figure(figsize=(13, 6))\n",
        "plt.plot(result.index, result['Asset'], label='Asset Value', color='blue')\n",
        "plt.xlabel('Date')\n",
        "plt.ylabel('Asset Value')\n",
        "plt.title('Asset Value Over Time with Holding Period Return')\n",
        "plt.annotate(\n",
        "    f\"Holding Period Return: {accum_return_rate:.2f}%\", xy = (data.index[-1], cur_asset_value),\n",
        "    xytext = (0.6, 0.9), textcoords = 'axes fraction', arrowprops = dict(facecolor = 'black', arrowstyle = '->'),\n",
        "    bbox = dict(boxstyle = 'round, pad = 0.5', fc = 'yellow', alpha = 0.5), fontsize = 12\n",
        ")\n",
        "plt.legend()\n",
        "plt.show()\n",
        "\n",
        "mdd_value = maximum_drawdown(result)\n",
        "print(mdd_value)\n",
        "trough_date = result['drawdown'].idxmin()\n",
        "print(type(trough_date))\n",
        "\n",
        "# ----------------------------\n",
        "peak_date = result.loc[:trough_date, 'Asset'].idxmax()\n",
        "print(\"Peak date:\", peak_date)\n",
        "print(\"Trough date:\", trough_date)\n",
        "print(\"MDD:\", result['drawdown'].min() * 100, \"%\")\n",
        "plt.figure(figsize=(12, 6))\n",
        "plt.plot(data.index, result['Asset'], label='Asset Value', color='blue')\n",
        "plt.axvspan(float(mdates.date2num(trough_date)), float(mdates.date2num(peak_date)), color = 'red', alpha = 0.3, label = 'Max Drawdown Period')\n",
        "plt.xlabel('Date')\n",
        "plt.ylabel('Asset Value')\n",
        "plt.title('Asset Value & Maximum Drawdown Period')\n",
        "plt.legend()\n",
        "plt.show()\n",
        "\n",
        "\n",
        "# ------------------------------\n",
        "\n",
        "daily_return = result['Asset'].pct_change().dropna()\n",
        "plt.figure(figsize = (13, 6))\n",
        "plt.plot(result.index[1:], daily_return, linestyle = '-', color = 'dodgerblue', label = 'Daily Return')\n",
        "plt.title(\"Daily Return Graph\", fontsize = 16)\n",
        "plt.xlabel(\"Date\", fontsize = 14)\n",
        "plt.ylabel(\"Daily Return\", fontsize = 14)\n",
        "plt.legend()\n",
        "plt.grid(True, linestyle='--', alpha = 0.7)\n",
        "plt.tight_layout()\n",
        "plt.show()\n",
        "sharpe = sharpe_ratio(result)\n",
        "print(\"Sharpe Ratio: \", sharpe)"
      ]
    },
    {
      "cell_type": "code",
      "execution_count": null,
      "metadata": {
        "id": "-9kT4pvtpI89"
      },
      "outputs": [],
      "source": []
    }
  ],
  "metadata": {
    "colab": {
      "provenance": [],
      "toc_visible": true
    },
    "kernelspec": {
      "display_name": "Python 3",
      "name": "python3"
    },
    "language_info": {
      "name": "python"
    }
  },
  "nbformat": 4,
  "nbformat_minor": 0
}
